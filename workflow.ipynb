{
 "cells": [
  {
   "cell_type": "code",
   "execution_count": 3,
   "metadata": {},
   "outputs": [],
   "source": [
    "import pandas as pd\n",
    "import json\n",
    "from datetime import datetime\n",
    "import numpy as np\n",
    "from pandas.io.json import json_normalize\n",
    "import matplotlib.pyplot as plt\n",
    "from sklearn.metrics import *\n",
    "import warnings\n",
    "warnings.filterwarnings('ignore')"
   ]
  },
  {
   "cell_type": "code",
   "execution_count": 2,
   "metadata": {},
   "outputs": [],
   "source": [
    "data = []\n",
    "with open(\"../data/yelp_data/yelp_academic_dataset_business.json\", \"r\", encoding = \"UTF-8\") as f:\n",
    "    for line in f:\n",
    "        data.append(json.loads(line))\n",
    "\n",
    "df = json_normalize(data)"
   ]
  },
  {
   "cell_type": "code",
   "execution_count": 304,
   "metadata": {
    "collapsed": true
   },
   "outputs": [
    {
     "ename": "KeyError",
     "evalue": "\"['attributes.AcceptsInsurance' 'attributes.AgesAllowed'\\n 'attributes.Alcohol' 'attributes.Ambience' 'attributes.BYOB'\\n 'attributes.BYOBCorkage' 'attributes.BestNights' 'attributes.BikeParking'\\n 'attributes.BusinessAcceptsBitcoin'\\n 'attributes.BusinessAcceptsCreditCards' 'attributes.BusinessParking'\\n 'attributes.ByAppointmentOnly' 'attributes.Caters' 'attributes.CoatCheck'\\n 'attributes.Corkage' 'attributes.DietaryRestrictions'\\n 'attributes.DogsAllowed' 'attributes.DriveThru'\\n 'attributes.GoodForDancing' 'attributes.GoodForKids'\\n 'attributes.GoodForMeal' 'attributes.HairSpecializesIn'\\n 'attributes.HappyHour' 'attributes.HasTV' 'attributes.Music'\\n 'attributes.NoiseLevel' 'attributes.Open24Hours'\\n 'attributes.OutdoorSeating' 'attributes.RestaurantsAttire'\\n 'attributes.RestaurantsCounterService' 'attributes.RestaurantsDelivery'\\n 'attributes.RestaurantsGoodForGroups' 'attributes.RestaurantsPriceRange2'\\n 'attributes.RestaurantsReservations' 'attributes.RestaurantsTableService'\\n 'attributes.RestaurantsTakeOut' 'attributes.Smoking'\\n 'attributes.WheelchairAccessible' 'attributes.WiFi' 'hours.Friday'\\n 'hours.Monday' 'hours.Saturday' 'hours.Sunday' 'hours.Thursday'\\n 'hours.Tuesday' 'hours.Wednesday' 'is_open'] not found in axis\"",
     "output_type": "error",
     "traceback": [
      "\u001b[0;31m---------------------------------------------------------------------------\u001b[0m",
      "\u001b[0;31mKeyError\u001b[0m                                  Traceback (most recent call last)",
      "\u001b[0;32m<ipython-input-304-c624ef6ce51d>\u001b[0m in \u001b[0;36m<module>\u001b[0;34m()\u001b[0m\n\u001b[1;32m     11\u001b[0m          \u001b[0;34m'attributes.WheelchairAccessible'\u001b[0m\u001b[0;34m,\u001b[0m\u001b[0;34m'attributes.WiFi'\u001b[0m\u001b[0;34m,\u001b[0m\u001b[0;34m'hours.Friday'\u001b[0m\u001b[0;34m,\u001b[0m\u001b[0;34m\u001b[0m\u001b[0m\n\u001b[1;32m     12\u001b[0m          \u001b[0;34m'hours.Monday'\u001b[0m\u001b[0;34m,\u001b[0m \u001b[0;34m'hours.Saturday'\u001b[0m\u001b[0;34m,\u001b[0m \u001b[0;34m'hours.Sunday'\u001b[0m\u001b[0;34m,\u001b[0m \u001b[0;34m'hours.Thursday'\u001b[0m\u001b[0;34m,\u001b[0m\u001b[0;34m'hours.Tuesday'\u001b[0m\u001b[0;34m,\u001b[0m \u001b[0;34m'hours.Wednesday'\u001b[0m\u001b[0;34m,\u001b[0m\u001b[0;34m\u001b[0m\u001b[0m\n\u001b[0;32m---> 13\u001b[0;31m          'is_open'], inplace = True, axis = 1)\n\u001b[0m",
      "\u001b[0;32m/Library/Frameworks/Python.framework/Versions/3.7/lib/python3.7/site-packages/pandas/core/frame.py\u001b[0m in \u001b[0;36mdrop\u001b[0;34m(self, labels, axis, index, columns, level, inplace, errors)\u001b[0m\n\u001b[1;32m   3695\u001b[0m                                            \u001b[0mindex\u001b[0m\u001b[0;34m=\u001b[0m\u001b[0mindex\u001b[0m\u001b[0;34m,\u001b[0m \u001b[0mcolumns\u001b[0m\u001b[0;34m=\u001b[0m\u001b[0mcolumns\u001b[0m\u001b[0;34m,\u001b[0m\u001b[0;34m\u001b[0m\u001b[0m\n\u001b[1;32m   3696\u001b[0m                                            \u001b[0mlevel\u001b[0m\u001b[0;34m=\u001b[0m\u001b[0mlevel\u001b[0m\u001b[0;34m,\u001b[0m \u001b[0minplace\u001b[0m\u001b[0;34m=\u001b[0m\u001b[0minplace\u001b[0m\u001b[0;34m,\u001b[0m\u001b[0;34m\u001b[0m\u001b[0m\n\u001b[0;32m-> 3697\u001b[0;31m                                            errors=errors)\n\u001b[0m\u001b[1;32m   3698\u001b[0m \u001b[0;34m\u001b[0m\u001b[0m\n\u001b[1;32m   3699\u001b[0m     @rewrite_axis_style_signature('mapper', [('copy', True),\n",
      "\u001b[0;32m/Library/Frameworks/Python.framework/Versions/3.7/lib/python3.7/site-packages/pandas/core/generic.py\u001b[0m in \u001b[0;36mdrop\u001b[0;34m(self, labels, axis, index, columns, level, inplace, errors)\u001b[0m\n\u001b[1;32m   3109\u001b[0m         \u001b[0;32mfor\u001b[0m \u001b[0maxis\u001b[0m\u001b[0;34m,\u001b[0m \u001b[0mlabels\u001b[0m \u001b[0;32min\u001b[0m \u001b[0maxes\u001b[0m\u001b[0;34m.\u001b[0m\u001b[0mitems\u001b[0m\u001b[0;34m(\u001b[0m\u001b[0;34m)\u001b[0m\u001b[0;34m:\u001b[0m\u001b[0;34m\u001b[0m\u001b[0m\n\u001b[1;32m   3110\u001b[0m             \u001b[0;32mif\u001b[0m \u001b[0mlabels\u001b[0m \u001b[0;32mis\u001b[0m \u001b[0;32mnot\u001b[0m \u001b[0;32mNone\u001b[0m\u001b[0;34m:\u001b[0m\u001b[0;34m\u001b[0m\u001b[0m\n\u001b[0;32m-> 3111\u001b[0;31m                 \u001b[0mobj\u001b[0m \u001b[0;34m=\u001b[0m \u001b[0mobj\u001b[0m\u001b[0;34m.\u001b[0m\u001b[0m_drop_axis\u001b[0m\u001b[0;34m(\u001b[0m\u001b[0mlabels\u001b[0m\u001b[0;34m,\u001b[0m \u001b[0maxis\u001b[0m\u001b[0;34m,\u001b[0m \u001b[0mlevel\u001b[0m\u001b[0;34m=\u001b[0m\u001b[0mlevel\u001b[0m\u001b[0;34m,\u001b[0m \u001b[0merrors\u001b[0m\u001b[0;34m=\u001b[0m\u001b[0merrors\u001b[0m\u001b[0;34m)\u001b[0m\u001b[0;34m\u001b[0m\u001b[0m\n\u001b[0m\u001b[1;32m   3112\u001b[0m \u001b[0;34m\u001b[0m\u001b[0m\n\u001b[1;32m   3113\u001b[0m         \u001b[0;32mif\u001b[0m \u001b[0minplace\u001b[0m\u001b[0;34m:\u001b[0m\u001b[0;34m\u001b[0m\u001b[0m\n",
      "\u001b[0;32m/Library/Frameworks/Python.framework/Versions/3.7/lib/python3.7/site-packages/pandas/core/generic.py\u001b[0m in \u001b[0;36m_drop_axis\u001b[0;34m(self, labels, axis, level, errors)\u001b[0m\n\u001b[1;32m   3141\u001b[0m                 \u001b[0mnew_axis\u001b[0m \u001b[0;34m=\u001b[0m \u001b[0maxis\u001b[0m\u001b[0;34m.\u001b[0m\u001b[0mdrop\u001b[0m\u001b[0;34m(\u001b[0m\u001b[0mlabels\u001b[0m\u001b[0;34m,\u001b[0m \u001b[0mlevel\u001b[0m\u001b[0;34m=\u001b[0m\u001b[0mlevel\u001b[0m\u001b[0;34m,\u001b[0m \u001b[0merrors\u001b[0m\u001b[0;34m=\u001b[0m\u001b[0merrors\u001b[0m\u001b[0;34m)\u001b[0m\u001b[0;34m\u001b[0m\u001b[0m\n\u001b[1;32m   3142\u001b[0m             \u001b[0;32melse\u001b[0m\u001b[0;34m:\u001b[0m\u001b[0;34m\u001b[0m\u001b[0m\n\u001b[0;32m-> 3143\u001b[0;31m                 \u001b[0mnew_axis\u001b[0m \u001b[0;34m=\u001b[0m \u001b[0maxis\u001b[0m\u001b[0;34m.\u001b[0m\u001b[0mdrop\u001b[0m\u001b[0;34m(\u001b[0m\u001b[0mlabels\u001b[0m\u001b[0;34m,\u001b[0m \u001b[0merrors\u001b[0m\u001b[0;34m=\u001b[0m\u001b[0merrors\u001b[0m\u001b[0;34m)\u001b[0m\u001b[0;34m\u001b[0m\u001b[0m\n\u001b[0m\u001b[1;32m   3144\u001b[0m             \u001b[0mresult\u001b[0m \u001b[0;34m=\u001b[0m \u001b[0mself\u001b[0m\u001b[0;34m.\u001b[0m\u001b[0mreindex\u001b[0m\u001b[0;34m(\u001b[0m\u001b[0;34m**\u001b[0m\u001b[0;34m{\u001b[0m\u001b[0maxis_name\u001b[0m\u001b[0;34m:\u001b[0m \u001b[0mnew_axis\u001b[0m\u001b[0;34m}\u001b[0m\u001b[0;34m)\u001b[0m\u001b[0;34m\u001b[0m\u001b[0m\n\u001b[1;32m   3145\u001b[0m \u001b[0;34m\u001b[0m\u001b[0m\n",
      "\u001b[0;32m/Library/Frameworks/Python.framework/Versions/3.7/lib/python3.7/site-packages/pandas/core/indexes/base.py\u001b[0m in \u001b[0;36mdrop\u001b[0;34m(self, labels, errors)\u001b[0m\n\u001b[1;32m   4402\u001b[0m             \u001b[0;32mif\u001b[0m \u001b[0merrors\u001b[0m \u001b[0;34m!=\u001b[0m \u001b[0;34m'ignore'\u001b[0m\u001b[0;34m:\u001b[0m\u001b[0;34m\u001b[0m\u001b[0m\n\u001b[1;32m   4403\u001b[0m                 raise KeyError(\n\u001b[0;32m-> 4404\u001b[0;31m                     '{} not found in axis'.format(labels[mask]))\n\u001b[0m\u001b[1;32m   4405\u001b[0m             \u001b[0mindexer\u001b[0m \u001b[0;34m=\u001b[0m \u001b[0mindexer\u001b[0m\u001b[0;34m[\u001b[0m\u001b[0;34m~\u001b[0m\u001b[0mmask\u001b[0m\u001b[0;34m]\u001b[0m\u001b[0;34m\u001b[0m\u001b[0m\n\u001b[1;32m   4406\u001b[0m         \u001b[0;32mreturn\u001b[0m \u001b[0mself\u001b[0m\u001b[0;34m.\u001b[0m\u001b[0mdelete\u001b[0m\u001b[0;34m(\u001b[0m\u001b[0mindexer\u001b[0m\u001b[0;34m)\u001b[0m\u001b[0;34m\u001b[0m\u001b[0m\n",
      "\u001b[0;31mKeyError\u001b[0m: \"['attributes.AcceptsInsurance' 'attributes.AgesAllowed'\\n 'attributes.Alcohol' 'attributes.Ambience' 'attributes.BYOB'\\n 'attributes.BYOBCorkage' 'attributes.BestNights' 'attributes.BikeParking'\\n 'attributes.BusinessAcceptsBitcoin'\\n 'attributes.BusinessAcceptsCreditCards' 'attributes.BusinessParking'\\n 'attributes.ByAppointmentOnly' 'attributes.Caters' 'attributes.CoatCheck'\\n 'attributes.Corkage' 'attributes.DietaryRestrictions'\\n 'attributes.DogsAllowed' 'attributes.DriveThru'\\n 'attributes.GoodForDancing' 'attributes.GoodForKids'\\n 'attributes.GoodForMeal' 'attributes.HairSpecializesIn'\\n 'attributes.HappyHour' 'attributes.HasTV' 'attributes.Music'\\n 'attributes.NoiseLevel' 'attributes.Open24Hours'\\n 'attributes.OutdoorSeating' 'attributes.RestaurantsAttire'\\n 'attributes.RestaurantsCounterService' 'attributes.RestaurantsDelivery'\\n 'attributes.RestaurantsGoodForGroups' 'attributes.RestaurantsPriceRange2'\\n 'attributes.RestaurantsReservations' 'attributes.RestaurantsTableService'\\n 'attributes.RestaurantsTakeOut' 'attributes.Smoking'\\n 'attributes.WheelchairAccessible' 'attributes.WiFi' 'hours.Friday'\\n 'hours.Monday' 'hours.Saturday' 'hours.Sunday' 'hours.Thursday'\\n 'hours.Tuesday' 'hours.Wednesday' 'is_open'] not found in axis\""
     ]
    }
   ],
   "source": [
    "df.drop(['attributes.AcceptsInsurance', 'attributes.AgesAllowed','attributes.Alcohol', 'attributes.Ambience', 'attributes.BYOB', \n",
    "         'attributes.BYOBCorkage', 'attributes.BestNights', 'attributes.BikeParking','attributes.BusinessAcceptsBitcoin',\n",
    "        'attributes.BusinessAcceptsCreditCards', 'attributes.BusinessParking','attributes.ByAppointmentOnly', \n",
    "         'attributes.Caters','attributes.CoatCheck', 'attributes.Corkage','attributes.DietaryRestrictions', \n",
    "         'attributes.DogsAllowed','attributes.DriveThru', 'attributes.GoodForDancing','attributes.GoodForKids', \n",
    "         'attributes.GoodForMeal','attributes.HairSpecializesIn', 'attributes.HappyHour','attributes.HasTV',\n",
    "         'attributes.Music', 'attributes.NoiseLevel','attributes.Open24Hours', 'attributes.OutdoorSeating', \n",
    "         'attributes.RestaurantsAttire', 'attributes.RestaurantsCounterService','attributes.RestaurantsDelivery', \n",
    "         'attributes.RestaurantsGoodForGroups', 'attributes.RestaurantsPriceRange2', 'attributes.RestaurantsReservations',\n",
    "         'attributes.RestaurantsTableService', 'attributes.RestaurantsTakeOut', 'attributes.Smoking',\n",
    "         'attributes.WheelchairAccessible','attributes.WiFi','hours.Friday',\n",
    "         'hours.Monday', 'hours.Saturday', 'hours.Sunday', 'hours.Thursday','hours.Tuesday', 'hours.Wednesday', \n",
    "         'is_open'], inplace = True, axis = 1)"
   ]
  },
  {
   "cell_type": "code",
   "execution_count": 4,
   "metadata": {},
   "outputs": [],
   "source": [
    "lv_zip = [89044, 89054, 89101, 89102, 89103, 89104, 89106, 89107,\n",
    "          89108, 89109, 89110, 89113, 89115, 89117, 89118, 89119, 89120, \n",
    "          89121, 89122, 89123, 89124, 89128, 89129, 89130, 89131, 89134, \n",
    "          89135, 89138, 89139, 89141, 89142, 89143, 89144, 89145, 89146, 89147, \n",
    "          89148, 89149, 89156, 89158, 89161, 89165, 89166, 89169, 89178, 89179, 89183, 89199]\n",
    "lv_zip = [str(i) for i in lv_zip]\n",
    "lv = df[df.postal_code.isin(lv_zip)]"
   ]
  },
  {
   "cell_type": "code",
   "execution_count": 5,
   "metadata": {},
   "outputs": [],
   "source": [
    "lv_rest = pd.read_csv('../data/vegas_data.csv')\n",
    "lv_rest.columns = [str.lower(i) for i in lv_rest.columns]"
   ]
  },
  {
   "cell_type": "code",
   "execution_count": 6,
   "metadata": {
    "collapsed": true
   },
   "outputs": [
    {
     "name": "stderr",
     "output_type": "stream",
     "text": [
      "/Library/Frameworks/Python.framework/Versions/3.7/lib/python3.7/site-packages/pandas/core/indexing.py:543: SettingWithCopyWarning: \n",
      "A value is trying to be set on a copy of a slice from a DataFrame.\n",
      "Try using .loc[row_indexer,col_indexer] = value instead\n",
      "\n",
      "See the caveats in the documentation: http://pandas.pydata.org/pandas-docs/stable/indexing.html#indexing-view-versus-copy\n",
      "  self.obj[item] = s\n"
     ]
    }
   ],
   "source": [
    "lv_rest.replace(regex = r'(?<=\\d{5})-\\d+', value = '', inplace = True)\n",
    "lv_rest = lv_rest.dropna(subset = ['zip', 'address','restaurant name'])\n",
    "lv_rest.loc[:,'address'] = lv_rest.apply(lambda row: str.lower(str(row['address'])).replace(' ', ''), axis = 1)\n",
    "lv_rest.loc[:,'restaurant name']= lv_rest.apply(lambda row: str.lower(row['restaurant name']).replace(' ', ''), axis = 1)\n",
    "lv.loc[:,'address'] = lv.apply(lambda row: str.lower(str(row['address'])).replace(' ', ''), axis = 1)\n",
    "lv.loc[:,'name'] = lv.apply(lambda row: str.lower(row['name']).replace(' ', ''), axis = 1)"
   ]
  },
  {
   "cell_type": "code",
   "execution_count": 40,
   "metadata": {},
   "outputs": [],
   "source": [
    "merged = lv_rest.merge(lv, left_on = ['address','restaurant name'] , right_on =['address','name'], how = 'left')"
   ]
  },
  {
   "cell_type": "code",
   "execution_count": 41,
   "metadata": {},
   "outputs": [],
   "source": [
    "merged = merged[merged['name'].notnull()]\n",
    "merged.drop(['attributes','hours'],inplace=True,axis=1)\n",
    "merged.to_csv('vegas_yelp_business.csv', index = False)"
   ]
  },
  {
   "cell_type": "code",
   "execution_count": 11,
   "metadata": {},
   "outputs": [],
   "source": [
    "rev = []\n",
    "with open(\"../data/yelp_data/yelp_academic_dataset_review.json\", \"r\", encoding = \"UTF-8\") as f:\n",
    "    for line in f:\n",
    "        rev.append(json.loads(line))\n",
    "\n",
    "yelp_reviews = json_normalize(rev)"
   ]
  },
  {
   "cell_type": "code",
   "execution_count": 23,
   "metadata": {},
   "outputs": [],
   "source": [
    "bus_id = merged.business_id.unique()\n",
    "yelp_reviews = yelp_reviews[yelp_reviews.business_id.isin(bus_id)]"
   ]
  },
  {
   "cell_type": "code",
   "execution_count": 44,
   "metadata": {},
   "outputs": [],
   "source": [
    "yelp_reviews.to_csv('vegas_yelp_reviews.csv', index = False)"
   ]
  },
  {
   "cell_type": "code",
   "execution_count": 157,
   "metadata": {},
   "outputs": [
    {
     "name": "stdout",
     "output_type": "stream",
     "text": [
      "(52816, 9)\n",
      "(4015, 34)\n",
      "(9829, 42)\n",
      "(8158, 42)\n",
      "(1662, 42)\n"
     ]
    }
   ],
   "source": [
    "review_data = pd.read_csv('vegas_yelp_reviews.csv')\n",
    "business_data = pd.read_csv('vegas_yelp_business.csv')\n",
    "\n",
    "print(review_data.shape)\n",
    "print(business_data.shape)\n",
    "business_data['inspection date'] = pd.to_datetime(business_data['inspection date'].apply(lambda x:str(x).split()[0]), \n",
    "                                                format='%m/%d/%Y')\n",
    "business_data['inspection date'] = business_data['inspection date'].apply(lambda x:datetime(x.year,x.month,1))\n",
    "review_data['date'] = pd.to_datetime(review_data['date'],format='%Y-%m-%d')\n",
    "review_data['date'] = review_data['date'].apply(lambda x:datetime(x.year,x.month,1))\n",
    "new_merged = business_data.merge(review_data, left_on = ['business_id','inspection date'] , right_on =['business_id','date'], how = 'left')\n",
    "new_merged = new_merged[new_merged['inspection grade'].isin(['A', 'B', 'C'])]\n",
    "# new_merged = new_merged.dropna()\n",
    "\n",
    "\n",
    "def get_max_rows(df, gp, max_feat):\n",
    "    B_maxes = df.groupby(gp)[max_feat].transform(max)\n",
    "    return df[df[max_feat] == B_maxes] \n",
    "\n",
    "latest = get_max_rows(new_merged, ['business_id', 'inspection date'], 'inspection time')\n",
    "final = get_max_rows(latest, ['business_id', 'inspection date'], 'review_id')\n",
    "\n",
    "print(new_merged.shape)\n",
    "print(latest.shape)\n",
    "print(final.shape)\n",
    "\n",
    "latest.rename(index=str, columns={\"stars_x\": \"yelp_rating\", \"stars_y\": \"review_rating\"},inplace=True)\n",
    "\n",
    "final.rename(index=str, columns={\"stars_x\": \"yelp_rating\", \"stars_y\": \"review_rating\"},inplace=True)\n",
    "\n",
    "# to check if new_merged.dropna() was needed. \n",
    "# for i in final.columns:\n",
    "#     print(i,np.sum(final[i].isna()))\n",
    "#on running this, it is clear that it was not needed."
   ]
  },
  {
   "cell_type": "code",
   "execution_count": 159,
   "metadata": {},
   "outputs": [],
   "source": [
    "#Code to extract aggregated ratings from all reviews. Takes a while to execute. ~2 mins\n",
    "grouped = latest.groupby(['business_id', 'inspection date'])['review_rating'].mean()\n",
    "final['avg_review_stars'] = 0\n",
    "for i in final.iterrows():\n",
    "    bus_id = i[1]['business_id']\n",
    "    ins_date = i[1]['inspection date']\n",
    "    mean=grouped.loc[(bus_id,ins_date)]\n",
    "    final.loc[i[0],'avg_review_stars']=mean\n",
    "    \n",
    "#Code to extract aggregated useful ratings from all reviews. Takes a while to execute. ~2 mins\n",
    "grouped = latest.groupby(['business_id', 'inspection date'])['useful'].mean()\n",
    "final['avg_useful_review'] = 0\n",
    "for i in final.iterrows():\n",
    "    bus_id = i[1]['business_id']\n",
    "    ins_date = i[1]['inspection date']\n",
    "    mean=grouped.loc[(bus_id,ins_date)]\n",
    "    final.loc[i[0],'avg_useful_review']=mean\n"
   ]
  },
  {
   "cell_type": "code",
   "execution_count": 182,
   "metadata": {
    "collapsed": true
   },
   "outputs": [
    {
     "data": {
      "text/plain": [
       "array([\"I normally enjoy coming to this location except when the heavy set mentally retarded cook is there. You have to repeat yourself at least 3 times and he still doesn't comprehend.  Very bad customer service, the cashier is friendly.\",\n",
       "       \"The pizza is what you'd expect from a small pizza chain. Tastes very greasy and sort of flat but I still prefer it over large food chains like Pizza Hut and dominoes. Not my number one option for pizza in Vegas but definitely worth the try.\",\n",
       "       'I stop by here a few times every couple of months and have always liked the food and the portions are good sized for the price.  I started going once they added the vegan tofu \"meat\".  It is actually really, really good!  I have never had a complaint about service or anything and decided to do a review after my last visit on Wednesday night 12/14/16 because they were just exceptionally pleasant as they were taking our order.  Nothing specific to point out, they just had a great and happy energy about them.  They even gave me a small bowl of rice for our grandson and oohed and awwwed over him. I will keep them on my route for quick good food when am doing errands or going to thrift stores.',\n",
       "       ...,\n",
       "       \"The best Italian restaurant in Vegas. Family style and kid friendly. The food and pizza delicious, a family owned very friendly. We come here often, excellent service. Tonight we're having pizza and salad so yummy.\",\n",
       "       \"So being from NJ eating at a diner is a staple for me..... Let me say this place is the real deal...... We walked in at 845 with no seating issues what so ever our waitress was on point with our drinks and we waited only a few minutes for our food...... Now on to the food..... Amazing..... I didn't need to make any adjustments to the flavor.... No need for salt or pepper or anything which is impressive when you consider I had sausage gravy and biscuts.... My other half had three eggs over medium with bacon hash browns and toast...... She loved it eggs cooked perfectly,  bacon was fantastic..... Even had a little kick on the back....... There is nothing we can complain about with regards to this place...... If you from out of town and don't wanna pay $40 for two people to eat breakfast at one of the casinos...... We did that...... Come to this place........ Its truly a hidden gem!\",\n",
       "       \"5 stars because my 3 year old son loved it and when he was eating pizza he told me he loves me. He says it all the time actually but even though still made me feel very appreciated that he acknowledges all that I do for him to make him happy. Then we went to the park and then I went to the store to buy him a toy. I love my son very much. Anyways, back to the point, we played every game and sometimes more than once or even twice lol. The place is very clean and the food was yummy and it's very affordable. He's way easier to handle than all the other pizza places for kids because it's not too big and overwhelming. Perfect for his age. He ate two slices of pizza! The workers are very helpful even the one who turned the tv up for my child.\"],\n",
       "      dtype=object)"
      ]
     },
     "execution_count": 182,
     "metadata": {},
     "output_type": "execute_result"
    }
   ],
   "source": [
    "final['text'].unique()"
   ]
  },
  {
   "cell_type": "code",
   "execution_count": 169,
   "metadata": {},
   "outputs": [
    {
     "data": {
      "text/plain": [
       "Index(['category name', 'zip', 'inspection type', 'inspection grade',\n",
       "       'latitude', 'longitude', 'review_count', 'yelp_rating',\n",
       "       'avg_review_stars', 'avg_useful_review'],\n",
       "      dtype='object')"
      ]
     },
     "execution_count": 169,
     "metadata": {},
     "output_type": "execute_result"
    }
   ],
   "source": [
    "drop_list = ['serial number', 'permit number', 'restaurant name', 'location name',\n",
    "       'address', 'city_x', 'state_x','inspection date',\n",
    "       'current demerits', 'current grade', 'date current',\n",
    "       'inspection time', 'employee id', \n",
    "       'inspection result', 'record updated', 'location 1',\n",
    "       'business_id', 'city_y',  'name',\n",
    "    'review_id','postal_code',  'state_y','date', \n",
    "       'user_id','inspection demerits', 'permit status']\n",
    "\n",
    "#set 1 to drop\n",
    "check_list = {\n",
    "    #Columns from inspection data\n",
    "    'inspection type':0,\n",
    "    'category name':0,\n",
    "    'zip':0,\n",
    "    'violations':1,\n",
    "    \n",
    "    #Columns from yelp data\n",
    "    'neighborhood':1,\n",
    "    'text':1,\n",
    "    'categories':1,\n",
    "    'latitude':0, \n",
    "    'longitude':0,\n",
    "    'yelp_rating':0,\n",
    "    'cool':1,#single review's cool rating\n",
    "    'funny':1,#single review's funny rating\n",
    "    'useful':1, #single review's useful rating\n",
    "    'review_rating':1, # single review's star rating\n",
    "    'avg_useful_review':0, # combined reviews useful rating\n",
    "    'avg_review_stars':0,# combined reviews star rating\n",
    "    'review_count':0\n",
    "}\n",
    "additional_drop_list = []\n",
    "for key in check_list: \n",
    "    if check_list[key]==1:\n",
    "        additional_drop_list.append(key)\n",
    "first_model = final.drop(drop_list+additional_drop_list, axis = 1)\n",
    "first_model['inspection grade'] = pd.factorize(first_model['inspection grade'])[0]\n",
    "first_model.columns"
   ]
  },
  {
   "cell_type": "code",
   "execution_count": 177,
   "metadata": {},
   "outputs": [
    {
     "data": {
      "text/plain": [
       "array(['Routine Inspection', 'Re-inspection'], dtype=object)"
      ]
     },
     "execution_count": 177,
     "metadata": {},
     "output_type": "execute_result"
    }
   ],
   "source": [
    "first_model['inspection type'].unique()"
   ]
  },
  {
   "cell_type": "code",
   "execution_count": 178,
   "metadata": {},
   "outputs": [],
   "source": [
    "#HANDLING CATEGORICAL FEATURES\n",
    "\n",
    "#ONE HOT ENCODING\n",
    "\n",
    "# from sklearn.preprocessing import OneHotEncoder\n",
    "# temp = np.array(first_model['category name']).reshape(-1, 1)\n",
    "# enc = OneHotEncoder(handle_unknown='ignore')\n",
    "# enc.fit(temp)\n",
    "# enc.categories_\n",
    "# ans = enc.transform(temp).toarray()\n",
    "# first_model['test']=0\n",
    "# ind=0\n",
    "# for i in first_model.index:\n",
    "#     first_model.loc[i,'test']=ans[ind]\n",
    "#     ind+=1\n",
    "#Have to concatenate features     \n",
    "#np.concatenate((first_model, feature), axis=1)\n",
    "temp = pd.get_dummies(first_model,drop_first=True,prefix='dummy_')\n",
    "temp.columns\n",
    "\n",
    "data_used = temp #one hot encoded data\n",
    "\n",
    "# FACTORIZING \n",
    "\n",
    "# if 'inspection type' not in additional_drop_list:\n",
    "#     first_model['inspection type'] = pd.factorize(first_model['inspection type'])[0]\n",
    "# if 'category name' not in additional_drop_list:\n",
    "#     first_model['category name'] = pd.factorize(first_model['category name'])[0]\n",
    "# if 'neighborhood' not in additional_drop_list:\n",
    "#     first_model['neighborhood'] = pd.factorize(first_model['neighborhood'])[0]\n",
    "\n",
    "# data_used = first_model # factorized data"
   ]
  },
  {
   "cell_type": "code",
   "execution_count": 179,
   "metadata": {},
   "outputs": [
    {
     "name": "stdout",
     "output_type": "stream",
     "text": [
      "Training Data Counts\n",
      "0    1102\n",
      "2      82\n",
      "1      62\n",
      "Name: inspection grade, dtype: int64\n",
      "Balanced Training Data Counts\n",
      "2    150\n",
      "1    150\n",
      "0    150\n",
      "Name: inspection grade, dtype: int64\n",
      "Testing Data Counts\n",
      "0    361\n",
      "2     32\n",
      "1     23\n",
      "Name: inspection grade, dtype: int64\n",
      "Balanced Testing Data Counts\n",
      "2    23\n",
      "1    23\n",
      "0    23\n",
      "Name: inspection grade, dtype: int64\n",
      "0.391304347826087\n",
      "[[14 13 12]\n",
      " [ 7  4  2]\n",
      " [ 2  6  9]]\n"
     ]
    },
    {
     "data": {
      "image/png": "[encoded data removed]",
      "text/plain": [
       "<Figure size 432x288 with 1 Axes>"
      ]
     },
     "metadata": {
      "needs_background": "light"
     },
     "output_type": "display_data"
    },
    {
     "data": {
      "text/html": [
       "<div>\n",
       "<style scoped>\n",
       "    .dataframe tbody tr th:only-of-type {\n",
       "        vertical-align: middle;\n",
       "    }\n",
       "\n",
       "    .dataframe tbody tr th {\n",
       "        vertical-align: top;\n",
       "    }\n",
       "\n",
       "    .dataframe thead th {\n",
       "        text-align: right;\n",
       "    }\n",
       "</style>\n",
       "<table border=\"1\" class=\"dataframe\">\n",
       "  <thead>\n",
       "    <tr style=\"text-align: right;\">\n",
       "      <th></th>\n",
       "      <th>feature_importance</th>\n",
       "    </tr>\n",
       "  </thead>\n",
       "  <tbody>\n",
       "    <tr>\n",
       "      <th>dummy__Beer Bar</th>\n",
       "      <td>0.000000</td>\n",
       "    </tr>\n",
       "    <tr>\n",
       "      <th>dummy__Snack Bar</th>\n",
       "      <td>0.000000</td>\n",
       "    </tr>\n",
       "    <tr>\n",
       "      <th>dummy__Portable Unit</th>\n",
       "      <td>0.000000</td>\n",
       "    </tr>\n",
       "    <tr>\n",
       "      <th>dummy__Food Trucks / Mobile Vendor</th>\n",
       "      <td>0.000000</td>\n",
       "    </tr>\n",
       "    <tr>\n",
       "      <th>dummy__Confection</th>\n",
       "      <td>0.000000</td>\n",
       "    </tr>\n",
       "    <tr>\n",
       "      <th>dummy__Bar / Tavern</th>\n",
       "      <td>0.000000</td>\n",
       "    </tr>\n",
       "    <tr>\n",
       "      <th>dummy__Special Kitchen</th>\n",
       "      <td>0.000000</td>\n",
       "    </tr>\n",
       "    <tr>\n",
       "      <th>dummy__Buffet</th>\n",
       "      <td>0.000000</td>\n",
       "    </tr>\n",
       "    <tr>\n",
       "      <th>dummy__Concessions</th>\n",
       "      <td>0.000000</td>\n",
       "    </tr>\n",
       "    <tr>\n",
       "      <th>yelp_rating</th>\n",
       "      <td>0.004076</td>\n",
       "    </tr>\n",
       "    <tr>\n",
       "      <th>dummy__Restaurant</th>\n",
       "      <td>0.019996</td>\n",
       "    </tr>\n",
       "    <tr>\n",
       "      <th>dummy__Routine Inspection</th>\n",
       "      <td>0.063945</td>\n",
       "    </tr>\n",
       "    <tr>\n",
       "      <th>avg_review_stars</th>\n",
       "      <td>0.108730</td>\n",
       "    </tr>\n",
       "    <tr>\n",
       "      <th>latitude</th>\n",
       "      <td>0.128851</td>\n",
       "    </tr>\n",
       "    <tr>\n",
       "      <th>avg_useful_review</th>\n",
       "      <td>0.144078</td>\n",
       "    </tr>\n",
       "    <tr>\n",
       "      <th>zip</th>\n",
       "      <td>0.156704</td>\n",
       "    </tr>\n",
       "    <tr>\n",
       "      <th>review_count</th>\n",
       "      <td>0.171167</td>\n",
       "    </tr>\n",
       "    <tr>\n",
       "      <th>longitude</th>\n",
       "      <td>0.202453</td>\n",
       "    </tr>\n",
       "  </tbody>\n",
       "</table>\n",
       "</div>"
      ],
      "text/plain": [
       "                                    feature_importance\n",
       "dummy__Beer Bar                               0.000000\n",
       "dummy__Snack Bar                              0.000000\n",
       "dummy__Portable Unit                          0.000000\n",
       "dummy__Food Trucks / Mobile Vendor            0.000000\n",
       "dummy__Confection                             0.000000\n",
       "dummy__Bar / Tavern                           0.000000\n",
       "dummy__Special Kitchen                        0.000000\n",
       "dummy__Buffet                                 0.000000\n",
       "dummy__Concessions                            0.000000\n",
       "yelp_rating                                   0.004076\n",
       "dummy__Restaurant                             0.019996\n",
       "dummy__Routine Inspection                     0.063945\n",
       "avg_review_stars                              0.108730\n",
       "latitude                                      0.128851\n",
       "avg_useful_review                             0.144078\n",
       "zip                                           0.156704\n",
       "review_count                                  0.171167\n",
       "longitude                                     0.202453"
      ]
     },
     "execution_count": 179,
     "metadata": {},
     "output_type": "execute_result"
    }
   ],
   "source": [
    "from sklearn.tree import DecisionTreeClassifier\n",
    "from sklearn.utils import resample\n",
    "from sklearn.model_selection import train_test_split\n",
    "from sklearn.linear_model import LogisticRegression\n",
    "from sklearn.ensemble import RandomForestClassifier\n",
    "\n",
    "X = data_used\n",
    "X=X.drop(['inspection grade'],axis=1)\n",
    "\n",
    "Y = data_used['inspection grade']\n",
    "x_train, x_test, y_train, y_test = train_test_split(data_used, data_used['inspection grade'], test_size=0.25, random_state=42)\n",
    "\n",
    "\n",
    "print('Training Data Counts')\n",
    "print(x_train['inspection grade'].value_counts())\n",
    "# max_cnt = x_train['inspection grade'].value_counts()[0]\n",
    "max_cnt=150\n",
    "major_1 = x_train[x_train['inspection grade'] == 0]\n",
    "minority_1= x_train[x_train['inspection grade'] == 1]\n",
    "minority_2 = x_train[x_train['inspection grade'] == 2]\n",
    "\n",
    "maj_down = resample(major_1, replace=False, n_samples=max_cnt, random_state=122)\n",
    "min1_up = resample(minority_1, replace=True, n_samples=max_cnt, random_state=123)\n",
    "min2_up = resample(minority_2, replace=True, n_samples=max_cnt, random_state=124)\n",
    "x_train = pd.concat([maj_down, min1_up, min2_up])\n",
    "y_train = x_train['inspection grade']\n",
    "\n",
    "\n",
    "print('Balanced Training Data Counts')\n",
    "print(x_train['inspection grade'].value_counts())\n",
    "\n",
    "print('Testing Data Counts')\n",
    "print(x_test['inspection grade'].value_counts())\n",
    "min_cnt = x_test['inspection grade'].value_counts()[1]\n",
    "major_1 = x_test[x_test['inspection grade'] == 0]\n",
    "minority_1= x_test[x_test['inspection grade'] == 1]\n",
    "minority_2 = x_test[x_test['inspection grade'] == 2]\n",
    "\n",
    "maj_down = resample(major_1, replace=False, n_samples=min_cnt, random_state=122)\n",
    "min1_down = resample(minority_1, replace=False, n_samples=min_cnt, random_state=123)\n",
    "min2_down = resample(minority_2, replace=False, n_samples=min_cnt, random_state=124)\n",
    "x_test = pd.concat([maj_down, min1_down, min2_down])\n",
    "y_test = x_test['inspection grade']\n",
    "\n",
    "\n",
    "print('Balanced Testing Data Counts')\n",
    "print(y_test.value_counts())\n",
    "\n",
    "x_train = x_train.drop(['inspection grade'],axis=1)\n",
    "x_test = x_test.drop(['inspection grade'],axis=1)\n",
    "\n",
    "# clf = LogisticRegression()\n",
    "\n",
    "# clf = RandomForestClassifier(n_estimators = 50,criterion = 'entropy')\n",
    "clf = DecisionTreeClassifier(criterion = 'entropy')\n",
    "clf = clf.fit(x_train, y_train)\n",
    "preds = clf.predict(x_test)\n",
    "print(accuracy_score(preds,y_test))\n",
    "print(confusion_matrix(preds,y_test))\n",
    "\n",
    "feat_dict = dict(zip(x_train.columns,clf.feature_importances_))\n",
    "features = pd.DataFrame(pd.Series(feat_dict),columns=['feature_importance'])\n",
    "sortd= features.sort_values(by=['feature_importance'])\n",
    "\n",
    "plt.bar(range(len(sortd)), sortd['feature_importance'], align='center')\n",
    "plt.xticks(range(len(sortd)), sortd.index,rotation = 'vertical')\n",
    "\n",
    "plt.show()\n",
    "sortd"
   ]
  },
  {
   "cell_type": "code",
   "execution_count": 180,
   "metadata": {},
   "outputs": [
    {
     "name": "stdout",
     "output_type": "stream",
     "text": [
      "DecisionTreeClassifier(class_weight='balanced', criterion='entropy',\n",
      "            max_depth=None, max_features=None, max_leaf_nodes=None,\n",
      "            min_impurity_decrease=0.0, min_impurity_split=None,\n",
      "            min_samples_leaf=5, min_samples_split=5,\n",
      "            min_weight_fraction_leaf=0.0, presort=False, random_state=None,\n",
      "            splitter='best')\n",
      "0.5933333333333334\n",
      "0.4057971014492754\n",
      "[[12 10 10]\n",
      " [ 8  5  2]\n",
      " [ 3  8 11]]\n"
     ]
    }
   ],
   "source": [
    "##CROSS VALIDATION\n",
    "\n",
    "from sklearn.model_selection import GridSearchCV\n",
    "from sklearn.model_selection import KFold\n",
    "from sklearn.pipeline import Pipeline\n",
    "from sklearn.preprocessing import StandardScaler\n",
    "\n",
    "kfolds = KFold(n_splits = 4)\n",
    "\n",
    "steps = [('scaler', StandardScaler()),\n",
    "         ('dt', DecisionTreeClassifier())]\n",
    "\n",
    "pipeline = Pipeline(steps)\n",
    "\n",
    "parameters_scaler = dict(dt__criterion = ['gini','entropy'],\n",
    "                  dt__splitter = ['best', 'random'],\n",
    "#                     dt__n_estimators = [10,50,100,200],\n",
    "                        dt__min_samples_leaf = [5,10,20],\n",
    "                        dt__min_samples_split = [4,5,10],\n",
    "                        dt__class_weight = ['balanced',None])\n",
    "\n",
    "dt_grid_search_scaler = GridSearchCV(pipeline, param_grid = parameters_scaler, cv = kfolds, scoring = 'accuracy')\n",
    "\n",
    "dt_grid_search_scaler.fit(x_train, y_train)\n",
    "print(dt_grid_search_scaler.best_estimator_.steps[-1][1])\n",
    "print(dt_grid_search_scaler.best_score_)\n",
    "preds = dt_grid_search_scaler.predict(x_test)\n",
    "print(accuracy_score(preds,y_test))\n",
    "print(confusion_matrix(preds,y_test))"
   ]
  },
  {
   "cell_type": "code",
   "execution_count": null,
   "metadata": {},
   "outputs": [],
   "source": []
  },
  {
   "cell_type": "code",
   "execution_count": null,
   "metadata": {},
   "outputs": [],
   "source": []
  }
 ],
 "metadata": {
  "kernelspec": {
   "display_name": "Python 3",
   "language": "python",
   "name": "python3"
  },
  "language_info": {
   "codemirror_mode": {
    "name": "ipython",
    "version": 3
   },
   "file_extension": ".py",
   "mimetype": "text/x-python",
   "name": "python",
   "nbconvert_exporter": "python",
   "pygments_lexer": "ipython3",
   "version": "3.7.0"
  }
 },
 "nbformat": 4,
 "nbformat_minor": 2
}
