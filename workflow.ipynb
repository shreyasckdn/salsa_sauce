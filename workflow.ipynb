{
 "cells": [
  {
   "cell_type": "code",
   "execution_count": 194,
   "metadata": {},
   "outputs": [],
   "source": [
    "import pandas as pd\n",
    "import json\n",
    "from datetime import datetime\n",
    "import numpy as np\n",
    "from pandas.io.json import json_normalize\n",
    "import matplotlib.pyplot as plt\n",
    "from sklearn.metrics import *\n",
    "import warnings\n",
    "warnings.filterwarnings('ignore')"
   ]
  },
  {
   "cell_type": "code",
   "execution_count": 164,
   "metadata": {},
   "outputs": [
    {
     "ename": "KeyboardInterrupt",
     "evalue": "",
     "output_type": "error",
     "traceback": [
      "\u001b[0;31m---------------------------------------------------------------------------\u001b[0m",
      "\u001b[0;31mKeyboardInterrupt\u001b[0m                         Traceback (most recent call last)",
      "\u001b[0;32m<ipython-input-164-54b19b822bce>\u001b[0m in \u001b[0;36m<module>\u001b[0;34m()\u001b[0m\n\u001b[1;32m      2\u001b[0m \u001b[0;32mwith\u001b[0m \u001b[0mopen\u001b[0m\u001b[0;34m(\u001b[0m\u001b[0;34m\"/Users/Antonio/Downloads/yelp_dataset/yelp_academic_dataset_business.json\"\u001b[0m\u001b[0;34m,\u001b[0m \u001b[0;34m\"r\"\u001b[0m\u001b[0;34m,\u001b[0m \u001b[0mencoding\u001b[0m \u001b[0;34m=\u001b[0m \u001b[0;34m\"UTF-8\"\u001b[0m\u001b[0;34m)\u001b[0m \u001b[0;32mas\u001b[0m \u001b[0mf\u001b[0m\u001b[0;34m:\u001b[0m\u001b[0;34m\u001b[0m\u001b[0m\n\u001b[1;32m      3\u001b[0m     \u001b[0;32mfor\u001b[0m \u001b[0mline\u001b[0m \u001b[0;32min\u001b[0m \u001b[0mf\u001b[0m\u001b[0;34m:\u001b[0m\u001b[0;34m\u001b[0m\u001b[0m\n\u001b[0;32m----> 4\u001b[0;31m         \u001b[0mdata\u001b[0m\u001b[0;34m.\u001b[0m\u001b[0mappend\u001b[0m\u001b[0;34m(\u001b[0m\u001b[0mjson\u001b[0m\u001b[0;34m.\u001b[0m\u001b[0mloads\u001b[0m\u001b[0;34m(\u001b[0m\u001b[0mline\u001b[0m\u001b[0;34m)\u001b[0m\u001b[0;34m)\u001b[0m\u001b[0;34m\u001b[0m\u001b[0m\n\u001b[0m\u001b[1;32m      5\u001b[0m \u001b[0;34m\u001b[0m\u001b[0m\n\u001b[1;32m      6\u001b[0m \u001b[0mdf\u001b[0m \u001b[0;34m=\u001b[0m \u001b[0mjson_normalize\u001b[0m\u001b[0;34m(\u001b[0m\u001b[0mdata\u001b[0m\u001b[0;34m)\u001b[0m\u001b[0;34m\u001b[0m\u001b[0m\n",
      "\u001b[0;32m/anaconda3/lib/python3.6/json/__init__.py\u001b[0m in \u001b[0;36mloads\u001b[0;34m(s, encoding, cls, object_hook, parse_float, parse_int, parse_constant, object_pairs_hook, **kw)\u001b[0m\n\u001b[1;32m    352\u001b[0m             \u001b[0mparse_int\u001b[0m \u001b[0;32mis\u001b[0m \u001b[0;32mNone\u001b[0m \u001b[0;32mand\u001b[0m \u001b[0mparse_float\u001b[0m \u001b[0;32mis\u001b[0m \u001b[0;32mNone\u001b[0m \u001b[0;32mand\u001b[0m\u001b[0;34m\u001b[0m\u001b[0m\n\u001b[1;32m    353\u001b[0m             parse_constant is None and object_pairs_hook is None and not kw):\n\u001b[0;32m--> 354\u001b[0;31m         \u001b[0;32mreturn\u001b[0m \u001b[0m_default_decoder\u001b[0m\u001b[0;34m.\u001b[0m\u001b[0mdecode\u001b[0m\u001b[0;34m(\u001b[0m\u001b[0ms\u001b[0m\u001b[0;34m)\u001b[0m\u001b[0;34m\u001b[0m\u001b[0m\n\u001b[0m\u001b[1;32m    355\u001b[0m     \u001b[0;32mif\u001b[0m \u001b[0mcls\u001b[0m \u001b[0;32mis\u001b[0m \u001b[0;32mNone\u001b[0m\u001b[0;34m:\u001b[0m\u001b[0;34m\u001b[0m\u001b[0m\n\u001b[1;32m    356\u001b[0m         \u001b[0mcls\u001b[0m \u001b[0;34m=\u001b[0m \u001b[0mJSONDecoder\u001b[0m\u001b[0;34m\u001b[0m\u001b[0m\n",
      "\u001b[0;32m/anaconda3/lib/python3.6/json/decoder.py\u001b[0m in \u001b[0;36mdecode\u001b[0;34m(self, s, _w)\u001b[0m\n\u001b[1;32m    337\u001b[0m \u001b[0;34m\u001b[0m\u001b[0m\n\u001b[1;32m    338\u001b[0m         \"\"\"\n\u001b[0;32m--> 339\u001b[0;31m         \u001b[0mobj\u001b[0m\u001b[0;34m,\u001b[0m \u001b[0mend\u001b[0m \u001b[0;34m=\u001b[0m \u001b[0mself\u001b[0m\u001b[0;34m.\u001b[0m\u001b[0mraw_decode\u001b[0m\u001b[0;34m(\u001b[0m\u001b[0ms\u001b[0m\u001b[0;34m,\u001b[0m \u001b[0midx\u001b[0m\u001b[0;34m=\u001b[0m\u001b[0m_w\u001b[0m\u001b[0;34m(\u001b[0m\u001b[0ms\u001b[0m\u001b[0;34m,\u001b[0m \u001b[0;36m0\u001b[0m\u001b[0;34m)\u001b[0m\u001b[0;34m.\u001b[0m\u001b[0mend\u001b[0m\u001b[0;34m(\u001b[0m\u001b[0;34m)\u001b[0m\u001b[0;34m)\u001b[0m\u001b[0;34m\u001b[0m\u001b[0m\n\u001b[0m\u001b[1;32m    340\u001b[0m         \u001b[0mend\u001b[0m \u001b[0;34m=\u001b[0m \u001b[0m_w\u001b[0m\u001b[0;34m(\u001b[0m\u001b[0ms\u001b[0m\u001b[0;34m,\u001b[0m \u001b[0mend\u001b[0m\u001b[0;34m)\u001b[0m\u001b[0;34m.\u001b[0m\u001b[0mend\u001b[0m\u001b[0;34m(\u001b[0m\u001b[0;34m)\u001b[0m\u001b[0;34m\u001b[0m\u001b[0m\n\u001b[1;32m    341\u001b[0m         \u001b[0;32mif\u001b[0m \u001b[0mend\u001b[0m \u001b[0;34m!=\u001b[0m \u001b[0mlen\u001b[0m\u001b[0;34m(\u001b[0m\u001b[0ms\u001b[0m\u001b[0;34m)\u001b[0m\u001b[0;34m:\u001b[0m\u001b[0;34m\u001b[0m\u001b[0m\n",
      "\u001b[0;32m/anaconda3/lib/python3.6/json/decoder.py\u001b[0m in \u001b[0;36mraw_decode\u001b[0;34m(self, s, idx)\u001b[0m\n\u001b[1;32m    353\u001b[0m         \"\"\"\n\u001b[1;32m    354\u001b[0m         \u001b[0;32mtry\u001b[0m\u001b[0;34m:\u001b[0m\u001b[0;34m\u001b[0m\u001b[0m\n\u001b[0;32m--> 355\u001b[0;31m             \u001b[0mobj\u001b[0m\u001b[0;34m,\u001b[0m \u001b[0mend\u001b[0m \u001b[0;34m=\u001b[0m \u001b[0mself\u001b[0m\u001b[0;34m.\u001b[0m\u001b[0mscan_once\u001b[0m\u001b[0;34m(\u001b[0m\u001b[0ms\u001b[0m\u001b[0;34m,\u001b[0m \u001b[0midx\u001b[0m\u001b[0;34m)\u001b[0m\u001b[0;34m\u001b[0m\u001b[0m\n\u001b[0m\u001b[1;32m    356\u001b[0m         \u001b[0;32mexcept\u001b[0m \u001b[0mStopIteration\u001b[0m \u001b[0;32mas\u001b[0m \u001b[0merr\u001b[0m\u001b[0;34m:\u001b[0m\u001b[0;34m\u001b[0m\u001b[0m\n\u001b[1;32m    357\u001b[0m             \u001b[0;32mraise\u001b[0m \u001b[0mJSONDecodeError\u001b[0m\u001b[0;34m(\u001b[0m\u001b[0;34m\"Expecting value\"\u001b[0m\u001b[0;34m,\u001b[0m \u001b[0ms\u001b[0m\u001b[0;34m,\u001b[0m \u001b[0merr\u001b[0m\u001b[0;34m.\u001b[0m\u001b[0mvalue\u001b[0m\u001b[0;34m)\u001b[0m \u001b[0;32mfrom\u001b[0m \u001b[0;32mNone\u001b[0m\u001b[0;34m\u001b[0m\u001b[0m\n",
      "\u001b[0;31mKeyboardInterrupt\u001b[0m: "
     ]
    }
   ],
   "source": [
    "data = []\n",
    "with open(\"/Users/Antonio/Downloads/yelp_dataset/yelp_academic_dataset_business.json\", \"r\", encoding = \"UTF-8\") as f:\n",
    "    for line in f:\n",
    "        data.append(json.loads(line))\n",
    "\n",
    "df = json_normalize(data)"
   ]
  },
  {
   "cell_type": "code",
   "execution_count": null,
   "metadata": {},
   "outputs": [],
   "source": [
    "df.drop(['attributes.AcceptsInsurance', 'attributes.AgesAllowed','attributes.Alcohol', 'attributes.Ambience', 'attributes.BYOB', \n",
    "         'attributes.BYOBCorkage', 'attributes.BestNights', 'attributes.BikeParking','attributes.BusinessAcceptsBitcoin',\n",
    "        'attributes.BusinessAcceptsCreditCards', 'attributes.BusinessParking','attributes.ByAppointmentOnly', \n",
    "         'attributes.Caters','attributes.CoatCheck', 'attributes.Corkage','attributes.DietaryRestrictions', \n",
    "         'attributes.DogsAllowed','attributes.DriveThru', 'attributes.GoodForDancing','attributes.GoodForKids', \n",
    "         'attributes.GoodForMeal','attributes.HairSpecializesIn', 'attributes.HappyHour','attributes.HasTV',\n",
    "         'attributes.Music', 'attributes.NoiseLevel','attributes.Open24Hours', 'attributes.OutdoorSeating', \n",
    "         'attributes.RestaurantsAttire', 'attributes.RestaurantsCounterService','attributes.RestaurantsDelivery', \n",
    "         'attributes.RestaurantsGoodForGroups', 'attributes.RestaurantsPriceRange2', 'attributes.RestaurantsReservations',\n",
    "         'attributes.RestaurantsTableService', 'attributes.RestaurantsTakeOut', 'attributes.Smoking',\n",
    "         'attributes.WheelchairAccessible','attributes.WiFi','hours.Friday',\n",
    "         'hours.Monday', 'hours.Saturday', 'hours.Sunday', 'hours.Thursday','hours.Tuesday', 'hours.Wednesday', \n",
    "         'is_open'], inplace = True, axis = 1)"
   ]
  },
  {
   "cell_type": "code",
   "execution_count": null,
   "metadata": {},
   "outputs": [],
   "source": [
    "lv_zip = [89044, 89054, 89101, 89102, 89103, 89104, 89106, 89107,\n",
    "          89108, 89109, 89110, 89113, 89115, 89117, 89118, 89119, 89120, \n",
    "          89121, 89122, 89123, 89124, 89128, 89129, 89130, 89131, 89134, \n",
    "          89135, 89138, 89139, 89141, 89142, 89143, 89144, 89145, 89146, 89147, \n",
    "          89148, 89149, 89156, 89158, 89161, 89165, 89166, 89169, 89178, 89179, 89183, 89199]\n",
    "lv_zip = [str(i) for i in lv_zip]\n",
    "lv = df[df.postal_code.isin(lv_zip)]"
   ]
  },
  {
   "cell_type": "code",
   "execution_count": null,
   "metadata": {},
   "outputs": [],
   "source": [
    "lv_rest = pd.read_csv('/Users/Antonio/Downloads/Restaurant_Inspections.csv')\n",
    "lv_rest.columns = [str.lower(i) for i in lv_rest.columns]"
   ]
  },
  {
   "cell_type": "code",
   "execution_count": null,
   "metadata": {},
   "outputs": [],
   "source": [
    "lv_rest.replace(regex = r'(?<=\\d{5})-\\d+', value = '', inplace = True)\n",
    "lv_rest = lv_rest.dropna(subset = ['zip', 'address','restaurant name'])\n",
    "lv_rest.loc[:,'address'] = lv_rest.apply(lambda row: str.lower(str(row['address'])).replace(' ', ''), axis = 1)\n",
    "lv_rest.loc[:,'restaurant name']= lv_rest.apply(lambda row: str.lower(row['restaurant name']).replace(' ', ''), axis = 1)\n",
    "lv.loc[:,'address'] = lv.apply(lambda row: str.lower(str(row['address'])).replace(' ', ''), axis = 1)\n",
    "lv.loc[:,'name'] = lv.apply(lambda row: str.lower(row['name']).replace(' ', ''), axis = 1)\n"
   ]
  },
  {
   "cell_type": "code",
   "execution_count": null,
   "metadata": {},
   "outputs": [],
   "source": [
    "merged = lv_rest.merge(lv, left_on = ['address','restaurant name'] , right_on =['address','name'], how = 'left')"
   ]
  },
  {
   "cell_type": "code",
   "execution_count": null,
   "metadata": {},
   "outputs": [],
   "source": [
    "merged.columns"
   ]
  },
  {
   "cell_type": "code",
   "execution_count": null,
   "metadata": {},
   "outputs": [],
   "source": [
    "merged = merged[merged['name'].notnull()]\n",
    "# merged.drop(['attributes','hours'],inplace=True,axis=1)\n",
    "merged.to_csv('vegas_yelp_business.csv', index = False)"
   ]
  },
  {
   "cell_type": "code",
   "execution_count": null,
   "metadata": {},
   "outputs": [],
   "source": [
    "rev = []\n",
    "with open(\"/Users/Antonio/Downloads/yelp_dataset/yelp_academic_dataset_review.json\", \"r\", encoding = \"UTF-8\") as f:\n",
    "    for line in f:\n",
    "        rev.append(json.loads(line))\n",
    "\n",
    "yelp_reviews = json_normalize(rev)"
   ]
  },
  {
   "cell_type": "code",
   "execution_count": null,
   "metadata": {},
   "outputs": [],
   "source": [
    "bus_id = merged.business_id.unique()\n",
    "yelp_reviews = yelp_reviews[yelp_reviews.business_id.isin(bus_id)]"
   ]
  },
  {
   "cell_type": "code",
   "execution_count": null,
   "metadata": {},
   "outputs": [],
   "source": [
    "yelp_reviews.to_csv('vegas_yelp_reviews.csv', index = False)"
   ]
  },
  {
   "cell_type": "code",
   "execution_count": 6,
   "metadata": {},
   "outputs": [
    {
     "name": "stdout",
     "output_type": "stream",
     "text": [
      "(52816, 9)\n",
      "(4015, 34)\n",
      "(8113, 42)\n"
     ]
    }
   ],
   "source": [
    "import pandas as pd\n",
    "import numpy as np\n",
    "from datetime import datetime\n",
    "def get_max_rows(df, gp, max_feat):\n",
    "    B_maxes = df.groupby(gp)[max_feat].transform(max)\n",
    "    return df[df[max_feat] == B_maxes] \n",
    "\n",
    "review_data = pd.read_csv('vegas_yelp_reviews.csv')\n",
    "business_data = pd.read_csv('vegas_yelp_business.csv')\n",
    "\n",
    "print(review_data.shape)\n",
    "print(business_data.shape)\n",
    "business_data['inspection date'] = pd.to_datetime(business_data['inspection date'].apply(lambda x:str(x).split()[0]), \n",
    "                                                format='%m/%d/%Y')\n",
    "business_data['inspection date'] = business_data['inspection date'].apply(lambda x:datetime(x.year,x.month,1))\n",
    "\n",
    "business_data2 = get_max_rows(business_data, ['business_id', 'inspection date'], 'inspection time')\n",
    "review_data['date'] = pd.to_datetime(review_data['date'],format='%Y-%m-%d')\n",
    "review_data['date'] = review_data['date'].apply(lambda x:datetime(x.year,x.month,1))\n",
    "new_merged = business_data2.merge(review_data, left_on = ['business_id','inspection date'] , right_on =['business_id','date'], how = 'left')\n",
    "new_merged = new_merged[new_merged['inspection grade'].isin(['A', 'B', 'C'])]\n",
    "\n",
    "\n",
    "\n",
    "\n",
    "\n",
    "# latest = get_max_rows(new_merged, ['business_id', 'inspection date'], 'inspection time')\n",
    "\n",
    "final = get_max_rows(new_merged, ['business_id', 'inspection date'], 'review_id')\n",
    "\n",
    "print(new_merged.shape)\n",
    "# print(latest.shape)\n",
    "# print(final.shape)\n",
    "\n",
    "# latest.rename(index=str, columns={\"stars_x\": \"yelp_rating\", \"stars_y\": \"review_rating\"},inplace=True)\n",
    "\n",
    "new_merged.rename(index=str, columns={\"stars_x\": \"yelp_rating\", \"stars_y\": \"review_rating\"},inplace=True)\n",
    "\n",
    "# to check if new_merged.dropna() was needed. \n",
    "# for i in final.columns:\n",
    "#     print(i,np.sum(final[i].isna()))\n",
    "#on running this, it is clear that it was not needed."
   ]
  },
  {
   "cell_type": "markdown",
   "metadata": {},
   "source": [
    "# ADJUST BELOW CELL FOR EFFICIENCY, CALCULATE AVERAGES / MONTH\n",
    "# POTENTIALLY (UNSURE) CONCATENATE REVIEWS FOR MONTH INTO SINGLE DOCUMENT"
   ]
  },
  {
   "cell_type": "code",
   "execution_count": 7,
   "metadata": {
    "scrolled": true
   },
   "outputs": [
    {
     "ename": "SyntaxError",
     "evalue": "invalid syntax (<ipython-input-7-31325fca1b75>, line 1)",
     "output_type": "error",
     "traceback": [
      "\u001b[0;36m  File \u001b[0;32m\"<ipython-input-7-31325fca1b75>\"\u001b[0;36m, line \u001b[0;32m1\u001b[0m\n\u001b[0;31m    grouped = new_merged.groupby(['business_id', 'inspection date'])['review_rating'].mean()grouped.loc['-NjZ5HZApXjRJaTVZeSO_w'].mean()\u001b[0m\n\u001b[0m                                                                                                  ^\u001b[0m\n\u001b[0;31mSyntaxError\u001b[0m\u001b[0;31m:\u001b[0m invalid syntax\n"
     ]
    }
   ],
   "source": [
    "grouped = new_merged.groupby(['business_id', 'inspection date'])['review_rating'].mean()grouped.loc['-NjZ5HZApXjRJaTVZeSO_w'].mean()"
   ]
  },
  {
   "cell_type": "code",
   "execution_count": 8,
   "metadata": {},
   "outputs": [
    {
     "data": {
      "text/plain": [
       "388"
      ]
     },
     "execution_count": 8,
     "metadata": {},
     "output_type": "execute_result"
    }
   ],
   "source": [
    "len(business_data.business_id.unique())"
   ]
  },
  {
   "cell_type": "code",
   "execution_count": 9,
   "metadata": {},
   "outputs": [],
   "source": [
    "bus_ids = new_merged['business_id'].unique()\n",
    "nested_dict = dict()\n",
    "nested_dict2 = dict()\n",
    "nested_dict3 = dict()\n",
    "nested_dict4 = dict()\n",
    "nested_dict5 = dict()\n",
    "\n",
    "\n",
    "for i in bus_ids:\n",
    "    tmp = new_merged[new_merged['business_id'] == i]\n",
    "    grouped = tmp.groupby(['inspection date'])['review_rating'].mean()\n",
    "    grouped2 = tmp.groupby(['inspection date'])['funny'].mean()\n",
    "    grouped3 = tmp.groupby(['inspection date'])['cool'].mean()\n",
    "    grouped4 = tmp.groupby(['inspection date'])['useful'].mean()\n",
    "    tmp_dict = dict()\n",
    "    tmp_dict2 = dict()\n",
    "    tmp_dict3 = dict()\n",
    "    tmp_dict4 = dict()\n",
    "    tmp_dict5 = dict()\n",
    "    for j in tmp['inspection date'].unique():\n",
    "        if np.isnan(grouped.loc[j]):\n",
    "            tmp_dict[j] = grouped.mean()\n",
    "            tmp_dict3[j] = grouped2.mean()\n",
    "            tmp_dict4[j] = grouped3.mean()\n",
    "            tmp_dict5[j] = grouped4.mean()\n",
    "        else:\n",
    "            tmp_dict[j] = grouped.loc[j]\n",
    "            tmp_dict3[j] = grouped2.loc[j]\n",
    "            tmp_dict4[j] = grouped3.loc[j]\n",
    "            tmp_dict5[j] = grouped4.loc[j]\n",
    "            \n",
    "        tmp_dict2[j] = tmp[tmp['inspection date'] == j]['text'].str.cat(sep=' ')\n",
    "        \n",
    "    \n",
    "    nested_dict[i] = tmp_dict\n",
    "    nested_dict2[i] = tmp_dict2\n",
    "    nested_dict3[i] = tmp_dict3\n",
    "    nested_dict4[i] = tmp_dict4\n",
    "    nested_dict5[i] = tmp_dict5"
   ]
  },
  {
   "cell_type": "code",
   "execution_count": 10,
   "metadata": {},
   "outputs": [
    {
     "name": "stdout",
     "output_type": "stream",
     "text": [
      "2018-12-03 23:28:09.210434\n"
     ]
    },
    {
     "name": "stderr",
     "output_type": "stream",
     "text": [
      "/anaconda3/lib/python3.6/site-packages/ipykernel_launcher.py:2: SettingWithCopyWarning: \n",
      "A value is trying to be set on a copy of a slice from a DataFrame.\n",
      "Try using .loc[row_indexer,col_indexer] = value instead\n",
      "\n",
      "See the caveats in the documentation: http://pandas.pydata.org/pandas-docs/stable/indexing.html#indexing-view-versus-copy\n",
      "  \n",
      "/anaconda3/lib/python3.6/site-packages/ipykernel_launcher.py:3: SettingWithCopyWarning: \n",
      "A value is trying to be set on a copy of a slice from a DataFrame.\n",
      "Try using .loc[row_indexer,col_indexer] = value instead\n",
      "\n",
      "See the caveats in the documentation: http://pandas.pydata.org/pandas-docs/stable/indexing.html#indexing-view-versus-copy\n",
      "  This is separate from the ipykernel package so we can avoid doing imports until\n",
      "/anaconda3/lib/python3.6/site-packages/ipykernel_launcher.py:7: SettingWithCopyWarning: \n",
      "A value is trying to be set on a copy of a slice from a DataFrame.\n",
      "Try using .loc[row_indexer,col_indexer] = value instead\n",
      "\n",
      "See the caveats in the documentation: http://pandas.pydata.org/pandas-docs/stable/indexing.html#indexing-view-versus-copy\n",
      "  import sys\n",
      "/anaconda3/lib/python3.6/site-packages/ipykernel_launcher.py:8: SettingWithCopyWarning: \n",
      "A value is trying to be set on a copy of a slice from a DataFrame.\n",
      "Try using .loc[row_indexer,col_indexer] = value instead\n",
      "\n",
      "See the caveats in the documentation: http://pandas.pydata.org/pandas-docs/stable/indexing.html#indexing-view-versus-copy\n",
      "  \n",
      "/anaconda3/lib/python3.6/site-packages/ipykernel_launcher.py:9: SettingWithCopyWarning: \n",
      "A value is trying to be set on a copy of a slice from a DataFrame.\n",
      "Try using .loc[row_indexer,col_indexer] = value instead\n",
      "\n",
      "See the caveats in the documentation: http://pandas.pydata.org/pandas-docs/stable/indexing.html#indexing-view-versus-copy\n",
      "  if __name__ == '__main__':\n",
      "/anaconda3/lib/python3.6/site-packages/ipykernel_launcher.py:10: SettingWithCopyWarning: \n",
      "A value is trying to be set on a copy of a slice from a DataFrame.\n",
      "Try using .loc[row_indexer,col_indexer] = value instead\n",
      "\n",
      "See the caveats in the documentation: http://pandas.pydata.org/pandas-docs/stable/indexing.html#indexing-view-versus-copy\n",
      "  # Remove the CWD from sys.path while we load stuff.\n",
      "/anaconda3/lib/python3.6/site-packages/ipykernel_launcher.py:11: SettingWithCopyWarning: \n",
      "A value is trying to be set on a copy of a slice from a DataFrame.\n",
      "Try using .loc[row_indexer,col_indexer] = value instead\n",
      "\n",
      "See the caveats in the documentation: http://pandas.pydata.org/pandas-docs/stable/indexing.html#indexing-view-versus-copy\n",
      "  # This is added back by InteractiveShellApp.init_path()\n"
     ]
    },
    {
     "name": "stdout",
     "output_type": "stream",
     "text": [
      "2018-12-03 23:28:45.574395\n"
     ]
    }
   ],
   "source": [
    "print(datetime.now())\n",
    "final['avg_review_stars'] = 0\n",
    "final['text_cat'] = '' \n",
    "frames = []\n",
    "for i in bus_ids:\n",
    "    tmp = final[final['business_id'] ==i ]\n",
    "    tmp['avg_review_stars'] = tmp['inspection date'].map(nested_dict[i])\n",
    "    tmp['text_cat'] = tmp['inspection date'].map(nested_dict2[i])\n",
    "    tmp['avg_funny'] = tmp['inspection date'].map(nested_dict3[i])\n",
    "    tmp['avg_cool'] = tmp['inspection date'].map(nested_dict4[i])\n",
    "    tmp['avg_useful'] = tmp['inspection date'].map(nested_dict5[i])\n",
    "    \n",
    "    frames.append(tmp)\n",
    "\n",
    "final = pd.concat(frames)\n",
    "print(datetime.now())"
   ]
  },
  {
   "cell_type": "code",
   "execution_count": 27,
   "metadata": {},
   "outputs": [],
   "source": [
    "final.to_csv('final.csv', index = False)"
   ]
  },
  {
   "cell_type": "code",
   "execution_count": 48,
   "metadata": {},
   "outputs": [],
   "source": [
    "final = pd.read_csv('final.csv')\n",
    "final.drop(['Unnamed: 0'], axis =1, inplace = True)"
   ]
  },
  {
   "cell_type": "code",
   "execution_count": 49,
   "metadata": {},
   "outputs": [
    {
     "data": {
      "text/plain": [
       "Index(['category name', 'zip', 'inspection type', 'inspection grade',\n",
       "       'latitude', 'longitude', 'neighborhood', 'review_count', 'yelp_rating',\n",
       "       'cool', 'funny', 'useful', 'avg_review_stars', 'text_cat', 'avg_funny',\n",
       "       'avg_cool', 'avg_useful'],\n",
       "      dtype='object')"
      ]
     },
     "execution_count": 49,
     "metadata": {},
     "output_type": "execute_result"
    }
   ],
   "source": [
    "final.rename(index=str, columns={\"stars_x\": \"yelp_rating\", \"stars_y\": \"review_rating\"},inplace=True)\n",
    "\n",
    "drop_list = ['serial number', 'permit number', 'restaurant name', 'location name',\n",
    "       'address', 'city_x', 'state_x','inspection date',\n",
    "       'current demerits', 'current grade', 'date current',\n",
    "       'inspection time', 'employee id', \n",
    "       'inspection result', 'record updated', 'location 1',\n",
    "       'business_id', 'city_y',  'name',\n",
    "       'review_id','postal_code',  'state_y','date', \n",
    "       'user_id','inspection demerits', 'permit status']\n",
    "\n",
    "#set 1 to drop\n",
    "check_list = {\n",
    "    #Columns from inspection data\n",
    "    'inspection type':0,\n",
    "    'category name':0,\n",
    "    'zip':0,\n",
    "    'violations':1,\n",
    "\n",
    "    #Columns from yelp data\n",
    "    'neighborhood':0,\n",
    "    'text':1,\n",
    "    'categories':1,\n",
    "    'latitude':0, \n",
    "    'longitude':0,\n",
    "    'yelp_rating':0,\n",
    "    'cool':0,#single review's cool rating\n",
    "    'funny':0,#single review's funny rating\n",
    "    'useful':0, #single review's useful rating\n",
    "    'review_rating':1, # single review's star rating\n",
    "#     'avg_useful_review':0, # combined reviews useful rating\n",
    "#     'avg_review_stars':0,# combined reviews star rating\n",
    "    'review_count':0,\n",
    "    'avg_review_stars':0,\n",
    "    'text_cat':0\n",
    "}\n",
    "additional_drop_list = []\n",
    "for key in check_list: \n",
    "    if check_list[key]==1:\n",
    "        additional_drop_list.append(key)\n",
    "first_model = final.drop(drop_list+additional_drop_list, axis = 1)\n",
    "first_model['inspection grade'] = pd.factorize(first_model['inspection grade'])[0]\n",
    "first_model.columns"
   ]
  },
  {
   "cell_type": "code",
   "execution_count": 50,
   "metadata": {},
   "outputs": [
    {
     "data": {
      "text/plain": [
       "array(['Routine Inspection', 'Re-inspection'], dtype=object)"
      ]
     },
     "execution_count": 50,
     "metadata": {},
     "output_type": "execute_result"
    }
   ],
   "source": [
    "first_model['inspection type'].unique()"
   ]
  },
  {
   "cell_type": "code",
   "execution_count": 51,
   "metadata": {},
   "outputs": [],
   "source": [
    "#HANDLING CATEGORICAL FEATURES\n",
    "\n",
    "#ONE HOT ENCODING\n",
    "\n",
    "# from sklearn.preprocessing import OneHotEncoder\n",
    "# temp = np.array(first_model['category name']).reshape(-1, 1)\n",
    "# enc = OneHotEncoder(handle_unknown='ignore')\n",
    "# enc.fit(temp)\n",
    "# enc.categories_\n",
    "# ans = enc.transform(temp).toarray()\n",
    "# first_model['test']=0\n",
    "# ind=0\n",
    "# for i in first_model.index:\n",
    "#     first_model.loc[i,'test']=ans[ind]\n",
    "#     ind+=1\n",
    "#Have to concatenate features     \n",
    "#np.concatenate((first_model, feature), axis=1)\n",
    "# temp = pd.get_dummies(first_model,drop_first=True,prefix='dummy_')\n",
    "# temp.columns\n",
    "\n",
    "# data_used = temp #one hot encoded data\n",
    "\n",
    "# FACTORIZING \n",
    "\n",
    "if 'inspection type' not in additional_drop_list:\n",
    "    first_model['inspection type'] = pd.factorize(first_model['inspection type'])[0]\n",
    "if 'category name' not in additional_drop_list:\n",
    "    first_model['category name'] = pd.factorize(first_model['category name'])[0]\n",
    "if 'neighborhood' not in additional_drop_list:\n",
    "    first_model['neighborhood'] = pd.factorize(first_model['neighborhood'])[0]\n",
    "\n",
    "data_used = first_model # factorized data"
   ]
  },
  {
   "cell_type": "code",
   "execution_count": 52,
   "metadata": {},
   "outputs": [],
   "source": [
    "from sklearn.tree import DecisionTreeClassifier\n",
    "from sklearn.utils import resample\n",
    "from sklearn.model_selection import train_test_split\n",
    "from sklearn.linear_model import LogisticRegression\n",
    "from sklearn.ensemble import RandomForestClassifier\n",
    "\n",
    "X = data_used\n",
    "X=X.drop(['inspection grade'],axis=1)\n",
    "\n",
    "Y = data_used['inspection grade']\n",
    "x_train, x_test, y_train, y_test = train_test_split(data_used, data_used['inspection grade'], test_size=0.25, random_state=42)"
   ]
  },
  {
   "cell_type": "code",
   "execution_count": 53,
   "metadata": {},
   "outputs": [],
   "source": [
    "import gensim\n",
    "from gensim.utils import simple_preprocess\n",
    "from gensim.parsing.preprocessing import STOPWORDS\n",
    "import nltk\n",
    "from nltk.stem import WordNetLemmatizer, SnowballStemmer\n",
    "from nltk.stem.porter import *\n",
    "np.random.seed(2018)\n",
    "from gensim import corpora, models\n",
    "def lemmatize_stemming(text):\n",
    "    stemmer = SnowballStemmer('english')\n",
    "    return stemmer.stem(WordNetLemmatizer().lemmatize(text, pos='v'))\n",
    "def preprocess(text):\n",
    "    result = []\n",
    "    for token in gensim.utils.simple_preprocess(text):\n",
    "        if token not in gensim.parsing.preprocessing.STOPWORDS and len(token) > 3:\n",
    "            result.append(lemmatize_stemming(token))\n",
    "    return result"
   ]
  },
  {
   "cell_type": "code",
   "execution_count": 54,
   "metadata": {},
   "outputs": [
    {
     "data": {
      "text/plain": [
       "Index(['category name', 'zip', 'inspection type', 'inspection grade',\n",
       "       'latitude', 'longitude', 'neighborhood', 'review_count', 'yelp_rating',\n",
       "       'cool', 'funny', 'useful', 'avg_review_stars', 'text_cat', 'avg_funny',\n",
       "       'avg_cool', 'avg_useful'],\n",
       "      dtype='object')"
      ]
     },
     "execution_count": 54,
     "metadata": {},
     "output_type": "execute_result"
    }
   ],
   "source": [
    "x_train.columns\n"
   ]
  },
  {
   "cell_type": "code",
   "execution_count": 55,
   "metadata": {},
   "outputs": [
    {
     "name": "stderr",
     "output_type": "stream",
     "text": [
      "/anaconda3/lib/python3.6/site-packages/pandas/core/indexing.py:362: SettingWithCopyWarning: \n",
      "A value is trying to be set on a copy of a slice from a DataFrame.\n",
      "Try using .loc[row_indexer,col_indexer] = value instead\n",
      "\n",
      "See the caveats in the documentation: http://pandas.pydata.org/pandas-docs/stable/indexing.html#indexing-view-versus-copy\n",
      "  self.obj[key] = _infer_fill_value(value)\n",
      "/anaconda3/lib/python3.6/site-packages/pandas/core/indexing.py:543: SettingWithCopyWarning: \n",
      "A value is trying to be set on a copy of a slice from a DataFrame.\n",
      "Try using .loc[row_indexer,col_indexer] = value instead\n",
      "\n",
      "See the caveats in the documentation: http://pandas.pydata.org/pandas-docs/stable/indexing.html#indexing-view-versus-copy\n",
      "  self.obj[item] = s\n"
     ]
    }
   ],
   "source": [
    "processed_docs = x_train['text_cat'].map(preprocess)\n",
    "dictionary = gensim.corpora.Dictionary(processed_docs)\n",
    "dictionary.filter_extremes(no_below=15, no_above=0.5, keep_n=100000)\n",
    "bow_corpus = [dictionary.doc2bow(doc) for doc in processed_docs]\n",
    "tfidf = models.TfidfModel(bow_corpus)\n",
    "corpus_tfidf = tfidf[bow_corpus]\n",
    "lda_model_tfidf = gensim.models.LdaMulticore(corpus_tfidf, num_topics=6, id2word=dictionary, passes=2, workers=4)\n",
    "x_train.loc[:,'topics'] = x_train.\\\n",
    "apply(lambda row: max(lda_model_tfidf[dictionary.doc2bow(preprocess(row['text_cat']))],\\\n",
    "                      key = lambda item:item[1])[0], axis = 1)\n",
    "x_test.loc[:,'topics'] = x_test.\\\n",
    "apply(lambda row: max(lda_model_tfidf[dictionary.doc2bow(preprocess(row['text_cat']))],\\\n",
    "                      key = lambda item:item[1])[0], axis = 1)\n"
   ]
  },
  {
   "cell_type": "code",
   "execution_count": 56,
   "metadata": {},
   "outputs": [
    {
     "name": "stderr",
     "output_type": "stream",
     "text": [
      "/anaconda3/lib/python3.6/site-packages/pandas/core/frame.py:3694: SettingWithCopyWarning: \n",
      "A value is trying to be set on a copy of a slice from a DataFrame\n",
      "\n",
      "See the caveats in the documentation: http://pandas.pydata.org/pandas-docs/stable/indexing.html#indexing-view-versus-copy\n",
      "  errors=errors)\n"
     ]
    },
    {
     "data": {
      "text/plain": [
       "Index(['category name', 'zip', 'inspection type', 'inspection grade',\n",
       "       'latitude', 'longitude', 'neighborhood', 'review_count', 'yelp_rating',\n",
       "       'cool', 'funny', 'useful', 'avg_review_stars', 'avg_funny', 'avg_cool',\n",
       "       'avg_useful', 'topics'],\n",
       "      dtype='object')"
      ]
     },
     "execution_count": 56,
     "metadata": {},
     "output_type": "execute_result"
    }
   ],
   "source": [
    "x_train.drop(columns=['text_cat'],axis=1,inplace=True)\n",
    "x_test.drop(columns=['text_cat'],axis=1,inplace=True)\n",
    "x_train.columns"
   ]
  },
  {
   "cell_type": "code",
   "execution_count": 57,
   "metadata": {},
   "outputs": [
    {
     "name": "stdout",
     "output_type": "stream",
     "text": [
      "Training Data Counts\n",
      "0    1090\n",
      "1      84\n",
      "2      62\n",
      "Name: inspection grade, dtype: int64\n",
      "Balanced Training Data Counts\n",
      "1    1090\n",
      "2    1090\n",
      "0    1090\n",
      "Name: inspection grade, dtype: int64\n",
      "Balanced Testing Data Counts\n",
      "0    369\n",
      "1     23\n",
      "2     21\n",
      "Name: inspection grade, dtype: int64\n"
     ]
    }
   ],
   "source": [
    "print('Training Data Counts')\n",
    "print(x_train['inspection grade'].value_counts())\n",
    "max_cnt = x_train['inspection grade'].value_counts()[0]\n",
    "# max_cnt=150\n",
    "major_1 = x_train[x_train['inspection grade'] == 0]\n",
    "minority_1= x_train[x_train['inspection grade'] == 1]\n",
    "minority_2 = x_train[x_train['inspection grade'] == 2]\n",
    "\n",
    "maj_down = resample(major_1, replace=False, n_samples=max_cnt, random_state=122)\n",
    "min1_up = resample(minority_1, replace=True, n_samples=max_cnt, random_state=123)\n",
    "min2_up = resample(minority_2, replace=True, n_samples=max_cnt, random_state=124)\n",
    "x_train = pd.concat([maj_down, min1_up, min2_up])\n",
    "y_train = x_train['inspection grade']\n",
    "\n",
    "\n",
    "print('Balanced Training Data Counts')\n",
    "print(x_train['inspection grade'].value_counts())\n",
    "\n",
    "# print('Testing Data Counts')\n",
    "# print(x_test['inspection grade'].value_counts())\n",
    "# min_cnt = x_test['inspection grade'].value_counts()[1]\n",
    "# major_1 = x_test[x_test['inspection grade'] == 0]\n",
    "# minority_1= x_test[x_test['inspection grade'] == 1]\n",
    "# minority_2 = x_test[x_test['inspection grade'] == 2]\n",
    "\n",
    "# maj_down = resample(major_1, replace=False, n_samples=min_cnt, random_state=122)\n",
    "# min1_down = resample(minority_1, replace=False, n_samples=min_cnt, random_state=123)\n",
    "# min2_down = resample(minority_2, replace=False, n_samples=min_cnt, random_state=124)\n",
    "# x_test = pd.concat([maj_down, min1_down, min2_down])\n",
    "# y_test = x_test['inspection grade']\n",
    "\n",
    "\n",
    "print('Balanced Testing Data Counts')\n",
    "print(y_test.value_counts())\n",
    "\n",
    "x_train = x_train.drop(['inspection grade'],axis=1)\n",
    "x_test = x_test.drop(['inspection grade'],axis=1)\n",
    "\n",
    "# clf = LogisticRegression()"
   ]
  },
  {
   "cell_type": "code",
   "execution_count": 58,
   "metadata": {},
   "outputs": [
    {
     "name": "stdout",
     "output_type": "stream",
     "text": [
      "             precision    recall  f1-score   support\n",
      "\n",
      "          0       0.88      0.90      0.89       362\n",
      "          1       0.09      0.10      0.09        20\n",
      "          2       0.14      0.10      0.12        31\n",
      "\n",
      "avg / total       0.79      0.80      0.79       413\n",
      "\n",
      "[[326  19  17]\n",
      " [ 17   2   1]\n",
      " [ 26   2   3]]\n"
     ]
    },
    {
     "data": {
      "image/png": "[encoded data removed]",
      "text/plain": [
       "<Figure size 432x288 with 1 Axes>"
      ]
     },
     "metadata": {},
     "output_type": "display_data"
    },
    {
     "data": {
      "text/html": [
       "<div>\n",
       "<style scoped>\n",
       "    .dataframe tbody tr th:only-of-type {\n",
       "        vertical-align: middle;\n",
       "    }\n",
       "\n",
       "    .dataframe tbody tr th {\n",
       "        vertical-align: top;\n",
       "    }\n",
       "\n",
       "    .dataframe thead th {\n",
       "        text-align: right;\n",
       "    }\n",
       "</style>\n",
       "<table border=\"1\" class=\"dataframe\">\n",
       "  <thead>\n",
       "    <tr style=\"text-align: right;\">\n",
       "      <th></th>\n",
       "      <th>feature_importance</th>\n",
       "    </tr>\n",
       "  </thead>\n",
       "  <tbody>\n",
       "    <tr>\n",
       "      <th>category name</th>\n",
       "      <td>0.009346</td>\n",
       "    </tr>\n",
       "    <tr>\n",
       "      <th>useful</th>\n",
       "      <td>0.014726</td>\n",
       "    </tr>\n",
       "    <tr>\n",
       "      <th>cool</th>\n",
       "      <td>0.019895</td>\n",
       "    </tr>\n",
       "    <tr>\n",
       "      <th>funny</th>\n",
       "      <td>0.022094</td>\n",
       "    </tr>\n",
       "    <tr>\n",
       "      <th>avg_funny</th>\n",
       "      <td>0.026590</td>\n",
       "    </tr>\n",
       "    <tr>\n",
       "      <th>topics</th>\n",
       "      <td>0.035331</td>\n",
       "    </tr>\n",
       "    <tr>\n",
       "      <th>avg_cool</th>\n",
       "      <td>0.036600</td>\n",
       "    </tr>\n",
       "    <tr>\n",
       "      <th>yelp_rating</th>\n",
       "      <td>0.040103</td>\n",
       "    </tr>\n",
       "    <tr>\n",
       "      <th>zip</th>\n",
       "      <td>0.061497</td>\n",
       "    </tr>\n",
       "    <tr>\n",
       "      <th>inspection type</th>\n",
       "      <td>0.067919</td>\n",
       "    </tr>\n",
       "    <tr>\n",
       "      <th>neighborhood</th>\n",
       "      <td>0.069444</td>\n",
       "    </tr>\n",
       "    <tr>\n",
       "      <th>avg_useful</th>\n",
       "      <td>0.093805</td>\n",
       "    </tr>\n",
       "    <tr>\n",
       "      <th>latitude</th>\n",
       "      <td>0.097107</td>\n",
       "    </tr>\n",
       "    <tr>\n",
       "      <th>review_count</th>\n",
       "      <td>0.098519</td>\n",
       "    </tr>\n",
       "    <tr>\n",
       "      <th>longitude</th>\n",
       "      <td>0.131450</td>\n",
       "    </tr>\n",
       "    <tr>\n",
       "      <th>avg_review_stars</th>\n",
       "      <td>0.175572</td>\n",
       "    </tr>\n",
       "  </tbody>\n",
       "</table>\n",
       "</div>"
      ],
      "text/plain": [
       "                  feature_importance\n",
       "category name               0.009346\n",
       "useful                      0.014726\n",
       "cool                        0.019895\n",
       "funny                       0.022094\n",
       "avg_funny                   0.026590\n",
       "topics                      0.035331\n",
       "avg_cool                    0.036600\n",
       "yelp_rating                 0.040103\n",
       "zip                         0.061497\n",
       "inspection type             0.067919\n",
       "neighborhood                0.069444\n",
       "avg_useful                  0.093805\n",
       "latitude                    0.097107\n",
       "review_count                0.098519\n",
       "longitude                   0.131450\n",
       "avg_review_stars            0.175572"
      ]
     },
     "execution_count": 58,
     "metadata": {},
     "output_type": "execute_result"
    }
   ],
   "source": [
    "# clf = RandomForestClassifier(n_estimators = 50,criterion = 'entropy')\n",
    "from sklearn.metrics import classification_report, confusion_matrix\n",
    "import matplotlib.pyplot as plt\n",
    "clf = DecisionTreeClassifier(criterion = 'entropy')\n",
    "clf = clf.fit(x_train, y_train)\n",
    "preds = clf.predict(x_test)\n",
    "print(classification_report(preds,y_test))\n",
    "print(confusion_matrix(preds,y_test))\n",
    "\n",
    "feat_dict = dict(zip(x_train.columns,clf.feature_importances_))\n",
    "features = pd.DataFrame(pd.Series(feat_dict),columns=['feature_importance'])\n",
    "sortd= features.sort_values(by=['feature_importance'])\n",
    "\n",
    "plt.bar(range(len(sortd)), sortd['feature_importance'], align='center')\n",
    "plt.xticks(range(len(sortd)), sortd.index,rotation = 'vertical')\n",
    "\n",
    "plt.show()\n",
    "sortd"
   ]
  },
  {
   "cell_type": "code",
   "execution_count": 59,
   "metadata": {},
   "outputs": [
    {
     "name": "stdout",
     "output_type": "stream",
     "text": [
      "DecisionTreeClassifier(class_weight='balanced', criterion='gini',\n",
      "            max_depth=None, max_features=None, max_leaf_nodes=None,\n",
      "            min_impurity_decrease=0.0, min_impurity_split=None,\n",
      "            min_samples_leaf=5, min_samples_split=5,\n",
      "            min_weight_fraction_leaf=0.0, presort=False, random_state=None,\n",
      "            splitter='best')\n",
      "0.9899255958570801\n",
      "             precision    recall  f1-score   support\n",
      "\n",
      "          0       0.79      0.91      0.85       322\n",
      "          1       0.22      0.11      0.15        44\n",
      "          2       0.14      0.06      0.09        47\n",
      "\n",
      "avg / total       0.66      0.73      0.69       413\n",
      "\n",
      "[[293  15  14]\n",
      " [ 35   5   4]\n",
      " [ 41   3   3]]\n"
     ]
    }
   ],
   "source": [
    "##CROSS VALIDATION\n",
    "\n",
    "from sklearn.model_selection import GridSearchCV\n",
    "from sklearn.model_selection import KFold\n",
    "from sklearn.pipeline import Pipeline\n",
    "from sklearn.preprocessing import StandardScaler\n",
    "\n",
    "kfolds = KFold(n_splits = 4)\n",
    "\n",
    "steps = [('scaler', StandardScaler()),\n",
    "         ('dt', DecisionTreeClassifier())]\n",
    "\n",
    "pipeline = Pipeline(steps)\n",
    "\n",
    "parameters_scaler = dict(dt__criterion = ['gini','entropy'],\n",
    "                  dt__splitter = ['best', 'random'],\n",
    "#                     dt__n_estimators = [10,50,100,200],\n",
    "                        dt__min_samples_leaf = [5,10,20],\n",
    "                        dt__min_samples_split = [4,5,10],\n",
    "                        dt__class_weight = ['balanced',None])\n",
    "\n",
    "dt_grid_search_scaler = GridSearchCV(pipeline, param_grid = parameters_scaler, cv = kfolds, scoring = 'precision_weighted')\n",
    "\n",
    "dt_grid_search_scaler.fit(x_train, y_train)\n",
    "print(dt_grid_search_scaler.best_estimator_.steps[-1][1])\n",
    "print(dt_grid_search_scaler.best_score_)\n",
    "preds = dt_grid_search_scaler.predict(x_test)\n",
    "print(classification_report(preds,y_test))\n",
    "print(confusion_matrix(preds,y_test))"
   ]
  },
  {
   "cell_type": "code",
   "execution_count": 60,
   "metadata": {},
   "outputs": [
    {
     "name": "stdout",
     "output_type": "stream",
     "text": [
      "             precision    recall  f1-score   support\n",
      "\n",
      "          0       0.05      1.00      0.10        20\n",
      "          1       0.61      0.06      0.11       242\n",
      "          2       0.62      0.09      0.15       151\n",
      "\n",
      "avg / total       0.59      0.11      0.12       413\n",
      "\n",
      "[[ 20   0   0]\n",
      " [220  14   8]\n",
      " [129   9  13]]\n"
     ]
    }
   ],
   "source": [
    "from sklearn import linear_model\n",
    "from sklearn.linear_model import LogisticRegression\n",
    "logreg = linear_model.LogisticRegression()\n",
    "logreg.fit(x_train, y_train)\n",
    "preds = logreg.predict(x_test)\n",
    "print(classification_report(preds,y_test))\n",
    "print(confusion_matrix(preds,y_test))"
   ]
  },
  {
   "cell_type": "code",
   "execution_count": 61,
   "metadata": {},
   "outputs": [],
   "source": [
    "new_preds = []\n",
    "\n",
    "lr = logreg.predict(x_test)\n",
    "dt = clf.predict(x_test)\n",
    "\n",
    "for i in zip(dt,lr):\n",
    "    if i[0] == 0:\n",
    "        new_preds.append(0)\n",
    "    else:\n",
    "        new_preds.append(i[1])\n",
    "    \n",
    "    "
   ]
  },
  {
   "cell_type": "code",
   "execution_count": 62,
   "metadata": {},
   "outputs": [
    {
     "name": "stdout",
     "output_type": "stream",
     "text": [
      "             precision    recall  f1-score   support\n",
      "\n",
      "          0       0.88      0.90      0.89       362\n",
      "          1       0.17      0.15      0.16        26\n",
      "          2       0.14      0.12      0.13        25\n",
      "\n",
      "avg / total       0.79      0.81      0.80       413\n",
      "\n",
      "[[326  19  17]\n",
      " [ 21   4   1]\n",
      " [ 22   0   3]]\n"
     ]
    }
   ],
   "source": [
    "print(classification_report(new_preds,y_test))\n",
    "print(confusion_matrix(new_preds,y_test))\n"
   ]
  }
 ],
 "metadata": {
  "kernelspec": {
   "display_name": "Python 3",
   "language": "python",
   "name": "python3"
  },
  "language_info": {
   "codemirror_mode": {
    "name": "ipython",
    "version": 3
   },
   "file_extension": ".py",
   "mimetype": "text/x-python",
   "name": "python",
   "nbconvert_exporter": "python",
   "pygments_lexer": "ipython3",
   "version": "3.7.0"
  }
 },
 "nbformat": 4,
 "nbformat_minor": 2
}
