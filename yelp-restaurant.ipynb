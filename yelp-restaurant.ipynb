{
 "cells": [
  {
   "cell_type": "code",
   "execution_count": 383,
   "metadata": {},
   "outputs": [],
   "source": [
    "import pandas as pd\n",
    "import json\n",
    "import datetime\n",
    "from pandas.io.json import json_normalize"
   ]
  },
  {
   "cell_type": "code",
   "execution_count": 384,
   "metadata": {},
   "outputs": [],
   "source": [
    "data = []\n",
    "with open(\"/Users/Antonio/Downloads/yelp_dataset/yelp_academic_dataset_business.json\", \"r\", encoding = \"UTF-8\") as f:\n",
    "    for line in f:\n",
    "        data.append(json.loads(line))\n",
    "\n",
    "df = json_normalize(data)"
   ]
  },
  {
   "cell_type": "code",
   "execution_count": 385,
   "metadata": {},
   "outputs": [
    {
     "data": {
      "text/plain": [
       "Index(['address', 'attributes.AcceptsInsurance', 'attributes.AgesAllowed',\n",
       "       'attributes.Alcohol', 'attributes.Ambience', 'attributes.BYOB',\n",
       "       'attributes.BYOBCorkage', 'attributes.BestNights',\n",
       "       'attributes.BikeParking', 'attributes.BusinessAcceptsBitcoin',\n",
       "       'attributes.BusinessAcceptsCreditCards', 'attributes.BusinessParking',\n",
       "       'attributes.ByAppointmentOnly', 'attributes.Caters',\n",
       "       'attributes.CoatCheck', 'attributes.Corkage',\n",
       "       'attributes.DietaryRestrictions', 'attributes.DogsAllowed',\n",
       "       'attributes.DriveThru', 'attributes.GoodForDancing',\n",
       "       'attributes.GoodForKids', 'attributes.GoodForMeal',\n",
       "       'attributes.HairSpecializesIn', 'attributes.HappyHour',\n",
       "       'attributes.HasTV', 'attributes.Music', 'attributes.NoiseLevel',\n",
       "       'attributes.Open24Hours', 'attributes.OutdoorSeating',\n",
       "       'attributes.RestaurantsAttire', 'attributes.RestaurantsCounterService',\n",
       "       'attributes.RestaurantsDelivery', 'attributes.RestaurantsGoodForGroups',\n",
       "       'attributes.RestaurantsPriceRange2',\n",
       "       'attributes.RestaurantsReservations',\n",
       "       'attributes.RestaurantsTableService', 'attributes.RestaurantsTakeOut',\n",
       "       'attributes.Smoking', 'attributes.WheelchairAccessible',\n",
       "       'attributes.WiFi', 'business_id', 'categories', 'city', 'hours.Friday',\n",
       "       'hours.Monday', 'hours.Saturday', 'hours.Sunday', 'hours.Thursday',\n",
       "       'hours.Tuesday', 'hours.Wednesday', 'is_open', 'latitude', 'longitude',\n",
       "       'name', 'neighborhood', 'postal_code', 'review_count', 'stars',\n",
       "       'state'],\n",
       "      dtype='object')"
      ]
     },
     "execution_count": 385,
     "metadata": {},
     "output_type": "execute_result"
    }
   ],
   "source": [
    "cols = df.columns\n",
    "df.columns"
   ]
  },
  {
   "cell_type": "code",
   "execution_count": 386,
   "metadata": {},
   "outputs": [],
   "source": [
    "df.drop(['attributes.AcceptsInsurance', 'attributes.AgesAllowed','attributes.Alcohol', 'attributes.Ambience', 'attributes.BYOB', \n",
    "         'attributes.BYOBCorkage', 'attributes.BestNights', 'attributes.BikeParking','attributes.BusinessAcceptsBitcoin',\n",
    "        'attributes.BusinessAcceptsCreditCards', 'attributes.BusinessParking','attributes.ByAppointmentOnly', \n",
    "         'attributes.Caters','attributes.CoatCheck', 'attributes.Corkage','attributes.DietaryRestrictions', \n",
    "         'attributes.DogsAllowed','attributes.DriveThru', 'attributes.GoodForDancing','attributes.GoodForKids', \n",
    "         'attributes.GoodForMeal','attributes.HairSpecializesIn', 'attributes.HappyHour','attributes.HasTV',\n",
    "         'attributes.Music', 'attributes.NoiseLevel','attributes.Open24Hours', 'attributes.OutdoorSeating', \n",
    "         'attributes.RestaurantsAttire', 'attributes.RestaurantsCounterService','attributes.RestaurantsDelivery', \n",
    "         'attributes.RestaurantsGoodForGroups', 'attributes.RestaurantsReservations',\n",
    "         'attributes.RestaurantsTableService', 'attributes.RestaurantsTakeOut', 'attributes.Smoking',\n",
    "         'attributes.WheelchairAccessible','attributes.WiFi','hours.Friday',\n",
    "         'hours.Monday', 'hours.Saturday', 'hours.Sunday', 'hours.Thursday','hours.Tuesday', 'hours.Wednesday', \n",
    "         'is_open'], inplace = True, axis = 1)\n",
    "\n",
    "# 'attributes.RestaurantsPriceRange2' <--ethical concern, descriptive "
   ]
  },
  {
   "cell_type": "code",
   "execution_count": 42,
   "metadata": {},
   "outputs": [
    {
     "data": {
      "text/plain": [
       "AZ     56495\n",
       "NV     35688\n",
       "ON     32393\n",
       "NC     14359\n",
       "OH     13664\n",
       "PA     10966\n",
       "QC      8756\n",
       "AB      7670\n",
       "WI      5042\n",
       "IL      1937\n",
       "SC       770\n",
       "NYK      163\n",
       "NI       134\n",
       "IN       101\n",
       "OR        72\n",
       "BY        60\n",
       "ST        45\n",
       "CO        43\n",
       "C         34\n",
       "HE        32\n",
       "NLK       23\n",
       "XGM       23\n",
       "NY        19\n",
       "RP        19\n",
       "01        11\n",
       "CA         8\n",
       "VS         7\n",
       "NW         4\n",
       "O          3\n",
       "6          3\n",
       "       ...  \n",
       "AL         2\n",
       "CC         1\n",
       "SP         1\n",
       "MT         1\n",
       "XMS        1\n",
       "WAR        1\n",
       "FL         1\n",
       "BC         1\n",
       "TAM        1\n",
       "45         1\n",
       "KY         1\n",
       "PO         1\n",
       "RCC        1\n",
       "LU         1\n",
       "HH         1\n",
       "MA         1\n",
       "GA         1\n",
       "NE         1\n",
       "DE         1\n",
       "AG         1\n",
       "10         1\n",
       "CRF        1\n",
       "CS         1\n",
       "MN         1\n",
       "HU         1\n",
       "V          1\n",
       "VA         1\n",
       "WHT        1\n",
       "4          1\n",
       "11         1\n",
       "Name: state, Length: 69, dtype: int64"
      ]
     },
     "execution_count": 42,
     "metadata": {},
     "output_type": "execute_result"
    }
   ],
   "source": [
    "df['state'].value_counts()"
   ]
  },
  {
   "cell_type": "code",
   "execution_count": 387,
   "metadata": {},
   "outputs": [],
   "source": [
    "lv_zip = [89044, 89054, 89101, 89102, 89103, 89104, 89106, 89107,\n",
    "          89108, 89109, 89110, 89113, 89115, 89117, 89118, 89119, 89120, \n",
    "          89121, 89122, 89123, 89124, 89128, 89129, 89130, 89131, 89134, \n",
    "          89135, 89138, 89139, 89141, 89142, 89143, 89144, 89145, 89146, 89147, \n",
    "          89148, 89149, 89156, 89158, 89161, 89165, 89166, 89169, 89178, 89179, 89183, 89199]\n",
    "lv_zip = [str(i) for i in lv_zip]\n",
    "lv = df[df.postal_code.isin(lv_zip)]\n",
    "\n"
   ]
  },
  {
   "cell_type": "code",
   "execution_count": 388,
   "metadata": {},
   "outputs": [],
   "source": [
    "lv_rest = pd.read_csv('~/Downloads/Restaurant_Inspections.csv')\n",
    "lv_rest.columns = [str.lower(i) for i in lv_rest.columns]"
   ]
  },
  {
   "cell_type": "code",
   "execution_count": 389,
   "metadata": {},
   "outputs": [],
   "source": [
    "lv_rest.replace(regex = r'(?<=\\d{5})-\\d+', value = '', inplace = True)"
   ]
  },
  {
   "cell_type": "code",
   "execution_count": 390,
   "metadata": {},
   "outputs": [
    {
     "data": {
      "text/plain": [
       "array(['89109', '89122', '89104', '89123', '89149', '89129', '89101',\n",
       "       '89183', '89169', '89052', '89119', '89108', '89102', '89014',\n",
       "       '89121', '89130', '89110', '89106', '89147', '89012', '89103',\n",
       "       '89005', '89148', '89128', '89030', '89107', '89032', '89117',\n",
       "       '89019', '89139', '89158', '89145', '89031', '89156', '89143',\n",
       "       '89081', '89142', '89084', '89115', '89135', '89178', '89131',\n",
       "       '89029', '89074', '89044', '89146', '89015', '89166', '89027',\n",
       "       '89134', '89141', '89113', '89118', '89048', '89111', '89004',\n",
       "       '89046', '89007', '89011', '89002', '89114', '89120', '89154',\n",
       "       '91301', '89021', '89144', '89138', '89127', '89124', '89193',\n",
       "       '89152', '89054', '98147', '89105', '89179', '89041', '89040',\n",
       "       '85027', '89137', '89112', '89018', '89100', '89006', '89190',\n",
       "       '89186', '89034', '89189', '89036', '89010', '98032', '89025',\n",
       "       '89086', '89161', '89165', '89039', '89140', '88108', '89001',\n",
       "       '80919', '89164', '89009', '80109', '89167', '89037', '89159',\n",
       "       '89163', '89811', '92120', '89013', '89017', '89028', '89085',\n",
       "       '89181', '55121', '99216', '89132', '49027', '84790', '89016',\n",
       "       '89160', '84120', '89155', '92308', '89060', '89125', '96603',\n",
       "       '89153', '89116', '89157'], dtype=object)"
      ]
     },
     "execution_count": 390,
     "metadata": {},
     "output_type": "execute_result"
    }
   ],
   "source": [
    "lv_rest = lv_rest.dropna(subset = ['zip', 'address','restaurant name'])\n",
    "\n",
    "lv_rest.zip.unique()"
   ]
  },
  {
   "cell_type": "code",
   "execution_count": 140,
   "metadata": {},
   "outputs": [
    {
     "data": {
      "text/plain": [
       "serial number                             DAFRGRSNW\n",
       "permit number                             PR0102800\n",
       "restaurant name        TROP MINI MART ICE PACKAGING\n",
       "location name                        TROP MINI MART\n",
       "category name                             Snack Bar\n",
       "address                        5785 W TROPICANA 1/2\n",
       "city                                      Las Vegas\n",
       "state                                        Nevada\n",
       "zip                                           89104\n",
       "current demerits                                  3\n",
       "current grade                                     A\n",
       "date current                 04/04/2018 12:00:00 AM\n",
       "inspection date              03/19/2018 12:00:00 AM\n",
       "inspection time              03/19/2018 10:00:00 AM\n",
       "employee id                               EE7001291\n",
       "inspection type                  Routine Inspection\n",
       "inspection demerits                               3\n",
       "inspection grade                                  B\n",
       "permit status                                   NaN\n",
       "inspection result                     'B' Downgrade\n",
       "violations                                     2955\n",
       "record updated               03/19/2018 11:25:21 AM\n",
       "location 1                (36.0994893, 115.2200544)\n",
       "Name: 437, dtype: object"
      ]
     },
     "execution_count": 140,
     "metadata": {},
     "output_type": "execute_result"
    }
   ],
   "source": [
    "lv_rest.iloc[436,:]"
   ]
  },
  {
   "cell_type": "code",
   "execution_count": 108,
   "metadata": {},
   "outputs": [
    {
     "data": {
      "text/plain": [
       "serial number                          DAIZGXETD\n",
       "permit number                          PR0107683\n",
       "restaurant name                      OUTBACK BAR\n",
       "location name            OUTBACK STEAKHOUSE 3213\n",
       "category name                       Bar / Tavern\n",
       "address                       521 N STEPHANIE St\n",
       "city                                   Henderson\n",
       "state                                     Nevada\n",
       "zip                                        89014\n",
       "current demerits                               0\n",
       "current grade                                  A\n",
       "date current              03/01/2017 12:00:00 AM\n",
       "inspection date           03/01/2017 12:00:00 AM\n",
       "inspection time           03/01/2017 12:50:00 PM\n",
       "employee id                            EE7001226\n",
       "inspection type               Routine Inspection\n",
       "inspection demerits                            0\n",
       "inspection grade                               A\n",
       "permit status                                  A\n",
       "inspection result                      'A' Grade\n",
       "violations                                   NaN\n",
       "record updated            03/01/2017 12:47:34 PM\n",
       "location 1             (36.0576865, 115.0468364)\n",
       "Name: 1198, dtype: object"
      ]
     },
     "execution_count": 108,
     "metadata": {},
     "output_type": "execute_result"
    }
   ],
   "source": [
    "lv_rest.iloc[1196,:]"
   ]
  },
  {
   "cell_type": "code",
   "execution_count": 398,
   "metadata": {},
   "outputs": [],
   "source": [
    "lv_rest.loc[:,'address'] = lv_rest.apply(lambda row: str.lower(str(row['address'])).replace(' ', ''), axis = 1)\n",
    "lv_rest.loc[:,'restaurant name']= lv_rest.apply(lambda row: str.lower(row['restaurant name']).replace(' ', ''), axis = 1)"
   ]
  },
  {
   "cell_type": "code",
   "execution_count": 397,
   "metadata": {},
   "outputs": [
    {
     "data": {
      "text/plain": [
       "Index(['serial number', 'permit number', 'restaurant name', 'location name',\n",
       "       'category name', 'address', 'city', 'state', 'zip', 'current demerits',\n",
       "       'current grade', 'date current', 'inspection date', 'inspection time',\n",
       "       'employee id', 'inspection type', 'inspection demerits',\n",
       "       'inspection grade', 'permit status', 'inspection result', 'violations',\n",
       "       'record updated', 'location 1'],\n",
       "      dtype='object')"
      ]
     },
     "execution_count": 397,
     "metadata": {},
     "output_type": "execute_result"
    }
   ],
   "source": [
    "lv_rest.columns"
   ]
  },
  {
   "cell_type": "code",
   "execution_count": 392,
   "metadata": {},
   "outputs": [
    {
     "name": "stderr",
     "output_type": "stream",
     "text": [
      "/anaconda3/lib/python3.6/site-packages/pandas/core/indexing.py:543: SettingWithCopyWarning: \n",
      "A value is trying to be set on a copy of a slice from a DataFrame.\n",
      "Try using .loc[row_indexer,col_indexer] = value instead\n",
      "\n",
      "See the caveats in the documentation: http://pandas.pydata.org/pandas-docs/stable/indexing.html#indexing-view-versus-copy\n",
      "  self.obj[item] = s\n"
     ]
    }
   ],
   "source": [
    "lv.loc[:,'address'] = lv.apply(lambda row: str.lower(str(row['address'])).replace(' ', ''), axis = 1)\n",
    "lv.loc[:,'name'] = lv.apply(lambda row: str.lower(row['name']).replace(' ', ''), axis = 1)"
   ]
  },
  {
   "cell_type": "code",
   "execution_count": 67,
   "metadata": {},
   "outputs": [
    {
     "data": {
      "text/plain": [
       "Index(['serial number', 'permit number', 'restaurant name', 'location name',\n",
       "       'category name', 'address', 'city', 'state', 'zip', 'current demerits',\n",
       "       'current grade', 'date current', 'inspection date', 'inspection time',\n",
       "       'employee id', 'inspection type', 'inspection demerits',\n",
       "       'inspection grade', 'permit status', 'inspection result', 'violations',\n",
       "       'record updated', 'location 1'],\n",
       "      dtype='object')"
      ]
     },
     "execution_count": 67,
     "metadata": {},
     "output_type": "execute_result"
    }
   ],
   "source": [
    "lv_rest.columns"
   ]
  },
  {
   "cell_type": "code",
   "execution_count": 401,
   "metadata": {},
   "outputs": [
    {
     "data": {
      "text/plain": [
       "Index(['serial number', 'permit number', 'restaurant name', 'location name',\n",
       "       'category name', 'address', 'city_x', 'state_x', 'zip',\n",
       "       'current demerits', 'current grade', 'date current', 'inspection date',\n",
       "       'inspection time', 'employee id', 'inspection type',\n",
       "       'inspection demerits', 'inspection grade', 'permit status',\n",
       "       'inspection result', 'violations', 'record updated', 'location 1',\n",
       "       'attributes.RestaurantsPriceRange2', 'business_id', 'categories',\n",
       "       'city_y', 'latitude', 'longitude', 'name', 'neighborhood',\n",
       "       'postal_code', 'review_count', 'stars', 'state_y'],\n",
       "      dtype='object')"
      ]
     },
     "execution_count": 401,
     "metadata": {},
     "output_type": "execute_result"
    }
   ],
   "source": [
    "merged = lv_rest.merge(lv, left_on = ['address','restaurant name'] , right_on =['address','name'], how = 'left')\n",
    "merged.columns"
   ]
  },
  {
   "cell_type": "code",
   "execution_count": 402,
   "metadata": {},
   "outputs": [],
   "source": [
    "merged = merged[merged['name'].notnull()]"
   ]
  },
  {
   "cell_type": "code",
   "execution_count": 403,
   "metadata": {},
   "outputs": [],
   "source": [
    "merged.to_csv('sanity_check.csv', index = False)"
   ]
  },
  {
   "cell_type": "code",
   "execution_count": 31,
   "metadata": {},
   "outputs": [],
   "source": [
    "rev = []\n",
    "with open(\"/Users/Antonio/Downloads/yelp_dataset/yelp_academic_dataset_review.json\", \"r\", encoding = \"UTF-8\") as f:\n",
    "    for line in f:\n",
    "        rev.append(json.loads(line))\n",
    "\n",
    "yelp_reviews = json_normalize(rev)"
   ]
  },
  {
   "cell_type": "code",
   "execution_count": 22,
   "metadata": {},
   "outputs": [],
   "source": [
    "bus_id = merged.business_id.unique()\n",
    "yelp_reviews = yelp_reviews[yelp_reviews.business_id.isin(bus_id)]\n"
   ]
  },
  {
   "cell_type": "code",
   "execution_count": 404,
   "metadata": {},
   "outputs": [
    {
     "ename": "NameError",
     "evalue": "name 'yelp_reviews' is not defined",
     "output_type": "error",
     "traceback": [
      "\u001b[0;31m---------------------------------------------------------------------------\u001b[0m",
      "\u001b[0;31mNameError\u001b[0m                                 Traceback (most recent call last)",
      "\u001b[0;32m<ipython-input-404-acdb0297ca39>\u001b[0m in \u001b[0;36m<module>\u001b[0;34m()\u001b[0m\n\u001b[0;32m----> 1\u001b[0;31m \u001b[0myelp_reviews\u001b[0m\u001b[0;34m.\u001b[0m\u001b[0mto_csv\u001b[0m\u001b[0;34m(\u001b[0m\u001b[0;34m'vegas_yelp_reviews.csv'\u001b[0m\u001b[0;34m,\u001b[0m \u001b[0mindex\u001b[0m \u001b[0;34m=\u001b[0m \u001b[0;32mFalse\u001b[0m\u001b[0;34m)\u001b[0m\u001b[0;34m\u001b[0m\u001b[0m\n\u001b[0m",
      "\u001b[0;31mNameError\u001b[0m: name 'yelp_reviews' is not defined"
     ]
    }
   ],
   "source": [
    "yelp_reviews.to_csv('vegas_yelp_reviews.csv', index = False)"
   ]
  },
  {
   "cell_type": "markdown",
   "metadata": {},
   "source": [
    "# READ DATA FROM HERE"
   ]
  },
  {
   "cell_type": "code",
   "execution_count": 353,
   "metadata": {},
   "outputs": [],
   "source": [
    "import pandas as pd\n",
    "import datetime \n",
    "rest_grades = pd.read_csv('sanity_check.csv')\n",
    "rest_grades.drop(['stars'], axis = 1, inplace = True)\n",
    "rest_grades['inspection date'] = pd.to_datetime(rest_grades['inspection date'].apply(lambda x:str(x).split()[0]), \n",
    "                                                format='%m/%d/%Y')\n",
    "rest_grades['inspection date'] = rest_grades['inspection date'].apply(lambda x:datetime.datetime(x.year,x.month,1))"
   ]
  },
  {
   "cell_type": "code",
   "execution_count": 354,
   "metadata": {},
   "outputs": [],
   "source": [
    "yelp_rev = pd.read_csv('vegas_yelp_reviews.csv')"
   ]
  },
  {
   "cell_type": "code",
   "execution_count": 355,
   "metadata": {},
   "outputs": [],
   "source": [
    "yelp_rev['date'] = pd.to_datetime(yelp_rev['date'],format='%Y-%m-%d')\n",
    "yelp_rev['date'] = yelp_rev['date'].apply(lambda x:datetime.datetime(x.year,x.month,1))\n",
    "yelp_rev['date']\n",
    "new_merged = rest_grades.merge(yelp_rev, left_on = ['business_id','inspection date'] , right_on =['business_id','date'], how = 'left')\n",
    "new_merged = new_merged[new_merged['inspection grade'].isin(['A', 'B', 'C'])]\n",
    "new_merged = new_merged.dropna(subset = ['text'])"
   ]
  },
  {
   "cell_type": "code",
   "execution_count": 356,
   "metadata": {},
   "outputs": [
    {
     "data": {
      "text/plain": [
       "A    5916\n",
       "B    1283\n",
       "C     744\n",
       "Name: inspection grade, dtype: int64"
      ]
     },
     "execution_count": 356,
     "metadata": {},
     "output_type": "execute_result"
    }
   ],
   "source": [
    "new_merged['inspection grade'].value_counts()"
   ]
  },
  {
   "cell_type": "code",
   "execution_count": 357,
   "metadata": {},
   "outputs": [
    {
     "data": {
      "text/plain": [
       "Index(['serial number', 'permit number', 'restaurant name', 'location name',\n",
       "       'category name', 'address', 'city_x', 'state_x', 'zip',\n",
       "       'current demerits', 'current grade', 'date current', 'inspection date',\n",
       "       'inspection time', 'employee id', 'inspection type',\n",
       "       'inspection demerits', 'inspection grade', 'permit status',\n",
       "       'inspection result', 'violations', 'record updated', 'location 1',\n",
       "       'business_id', 'categories', 'city_y', 'latitude', 'longitude', 'name',\n",
       "       'neighborhood', 'postal_code', 'review_count', 'state_y', 'cool',\n",
       "       'date', 'funny', 'review_id', 'stars', 'text', 'useful', 'user_id'],\n",
       "      dtype='object')"
      ]
     },
     "execution_count": 357,
     "metadata": {},
     "output_type": "execute_result"
    }
   ],
   "source": [
    "new_merged.columns"
   ]
  },
  {
   "cell_type": "markdown",
   "metadata": {},
   "source": [
    "# DATA LEAKAGE CAUSED BY PERMIT STATUS, zip\n",
    "permit status is the same as inspection grade, zip, and review_count"
   ]
  },
  {
   "cell_type": "code",
   "execution_count": 358,
   "metadata": {},
   "outputs": [],
   "source": [
    "# removed 'inspection_date', 'review_id', 'inspection_time', 'inspection grade', \n",
    "# and 'business_id' from drop_list as we use it in get_max_rows() function later\n",
    "drop_list = ['serial number', 'permit number', 'restaurant name', 'location name',\n",
    "       'address', 'city_x', 'state_x',\n",
    "       'current demerits', 'current grade', 'date current', 'employee id', \n",
    "       'inspection result', 'record updated', 'location 1',\n",
    "       'city_y',  'name','postal_code',  'state_y','date', \n",
    "       'user_id','inspection demerits', 'permit status',\n",
    "        'review_count','longitude', 'latitude', 'zip', 'neighborhood']"
   ]
  },
  {
   "cell_type": "code",
   "execution_count": 359,
   "metadata": {},
   "outputs": [],
   "source": [
    "x_train, x_test, y_train, y_test = train_test_split(new_merged.drop(drop_list, axis = 1),\\\n",
    "                                                    new_merged['inspection grade'], test_size=0.25, random_state=42)\n"
   ]
  },
  {
   "cell_type": "code",
   "execution_count": 360,
   "metadata": {},
   "outputs": [
    {
     "name": "stdout",
     "output_type": "stream",
     "text": [
      "[nltk_data] Downloading package wordnet to /Users/Antonio/nltk_data...\n",
      "[nltk_data]   Package wordnet is already up-to-date!\n"
     ]
    },
    {
     "data": {
      "text/plain": [
       "True"
      ]
     },
     "execution_count": 360,
     "metadata": {},
     "output_type": "execute_result"
    }
   ],
   "source": [
    "import gensim\n",
    "from gensim.utils import simple_preprocess\n",
    "from gensim.parsing.preprocessing import STOPWORDS\n",
    "from nltk.stem import WordNetLemmatizer, SnowballStemmer\n",
    "from nltk.stem.porter import *\n",
    "import numpy as np\n",
    "np.random.seed(2018)\n",
    "import nltk\n",
    "nltk.download('wordnet')"
   ]
  },
  {
   "cell_type": "code",
   "execution_count": 361,
   "metadata": {},
   "outputs": [],
   "source": [
    "def lemmatize_stemming(text):\n",
    "    stemmer = SnowballStemmer('english')\n",
    "    return stemmer.stem(WordNetLemmatizer().lemmatize(text, pos='v'))\n",
    "def preprocess(text):\n",
    "    result = []\n",
    "    for token in gensim.utils.simple_preprocess(text):\n",
    "        if token not in gensim.parsing.preprocessing.STOPWORDS and len(token) > 3:\n",
    "            result.append(lemmatize_stemming(token))\n",
    "    return result"
   ]
  },
  {
   "cell_type": "code",
   "execution_count": 362,
   "metadata": {},
   "outputs": [],
   "source": [
    "processed_docs = x_train['text'].map(preprocess)\n"
   ]
  },
  {
   "cell_type": "code",
   "execution_count": 363,
   "metadata": {},
   "outputs": [
    {
     "name": "stdout",
     "output_type": "stream",
     "text": [
      "0 advic\n",
      "1 afternoon\n",
      "2 ahead\n",
      "3 benefit\n",
      "4 call\n",
      "5 calori\n",
      "6 capriotti\n",
      "7 cell\n",
      "8 chain\n",
      "9 charg\n",
      "10 cold\n"
     ]
    }
   ],
   "source": [
    "dictionary = gensim.corpora.Dictionary(processed_docs)\n",
    "count = 0\n",
    "for k, v in dictionary.iteritems():\n",
    "    print(k, v)\n",
    "    count += 1\n",
    "    if count > 10:\n",
    "        break"
   ]
  },
  {
   "cell_type": "code",
   "execution_count": 364,
   "metadata": {},
   "outputs": [],
   "source": [
    "dictionary.filter_extremes(no_below=15, no_above=0.75, keep_n=100000)"
   ]
  },
  {
   "cell_type": "code",
   "execution_count": 365,
   "metadata": {},
   "outputs": [
    {
     "name": "stdout",
     "output_type": "stream",
     "text": [
      "[(0, 0.09719184380221453),\n",
      " (1, 0.07469097515937903),\n",
      " (2, 0.23788912552694463),\n",
      " (3, 0.09719184380221453),\n",
      " (4, 0.05638344961820625),\n",
      " (5, 0.08669945760018967),\n",
      " (6, 0.196394989609889),\n",
      " (7, 0.07257045457896993),\n",
      " (8, 0.06021050084605146),\n",
      " (9, 0.05334518311598868),\n",
      " (10, 0.01866987261998811),\n",
      " (11, 0.06900215232604334),\n",
      " (12, 0.05214067471003404),\n",
      " (13, 0.059491396742353486),\n",
      " (14, 0.07832980113151997),\n",
      " (15, 0.08951777021966449),\n",
      " (16, 0.06652169581015487),\n",
      " (17, 0.08833239740199511),\n",
      " (18, 0.09368661448176079),\n",
      " (19, 0.06409679675862266),\n",
      " (20, 0.07371491945665869),\n",
      " (21, 0.010872303966812696),\n",
      " (22, 0.09719184380221453),\n",
      " (23, 0.09375145099348506),\n",
      " (24, 0.029327843461880065),\n",
      " (25, 0.06991885855130249),\n",
      " (26, 0.06813346373766915),\n",
      " (27, 0.08886633374469065),\n",
      " (28, 0.0981974948049445),\n",
      " (29, 0.10836761692831132),\n",
      " (30, 0.05630030076613858),\n",
      " (31, 0.02061616943996086),\n",
      " (32, 0.034777772854094446),\n",
      " (33, 0.08218857727700596),\n",
      " (34, 0.05697746259400177),\n",
      " (35, 0.0383551421535738),\n",
      " (36, 0.05065970715472673),\n",
      " (37, 0.03387374237354134),\n",
      " (38, 0.12680670462857005),\n",
      " (39, 0.07896788600078145),\n",
      " (40, 0.033283504103771386),\n",
      " (41, 0.05832683717867589),\n",
      " (42, 0.09390904883733296),\n",
      " (43, 0.3813872601251512),\n",
      " (44, 0.07785440880663906),\n",
      " (45, 0.1336635278535303),\n",
      " (46, 0.012803999783024834),\n",
      " (47, 0.07599780506503717),\n",
      " (48, 0.036876676168335815),\n",
      " (49, 0.02966917084961511),\n",
      " (50, 0.06396461947557287),\n",
      " (51, 0.09147157420826622),\n",
      " (52, 0.06491277246144464),\n",
      " (53, 0.0830754409203017),\n",
      " (54, 0.541704800940529),\n",
      " (55, 0.0576834483409423),\n",
      " (56, 0.06174957920207832),\n",
      " (57, 0.0474008622236668),\n",
      " (58, 0.05253253926131435),\n",
      " (59, 0.0807093938152796),\n",
      " (60, 0.03708370738928528),\n",
      " (61, 0.1020737478463601),\n",
      " (62, 0.0551006339697689),\n",
      " (63, 0.23690365800234434),\n",
      " (64, 0.04655000078505277),\n",
      " (65, 0.1237992425572218),\n",
      " (66, 0.143980078612796),\n",
      " (67, 0.06299706386920467),\n",
      " (68, 0.06746984879602663),\n",
      " (69, 0.23136857168956412),\n",
      " (70, 0.043679930990187396),\n",
      " (71, 0.04273823882669733)]\n"
     ]
    }
   ],
   "source": [
    "bow_corpus = [dictionary.doc2bow(doc) for doc in processed_docs]\n",
    "from gensim import corpora, models\n",
    "tfidf = models.TfidfModel(bow_corpus)\n",
    "corpus_tfidf = tfidf[bow_corpus]\n",
    "from pprint import pprint\n",
    "for doc in corpus_tfidf:\n",
    "    pprint(doc)\n",
    "    break\n"
   ]
  },
  {
   "cell_type": "code",
   "execution_count": 366,
   "metadata": {},
   "outputs": [],
   "source": [
    "lda_model_tfidf = gensim.models.LdaMulticore(corpus_tfidf, num_topics=10, id2word=dictionary, passes=2, workers=4)"
   ]
  },
  {
   "cell_type": "code",
   "execution_count": 367,
   "metadata": {},
   "outputs": [
    {
     "name": "stdout",
     "output_type": "stream",
     "text": [
      "Topic: 0 \n",
      "Words: 0.007*\"taco\" + 0.007*\"place\" + 0.006*\"food\" + 0.006*\"great\" + 0.006*\"good\" + 0.006*\"thai\" + 0.005*\"amaz\" + 0.005*\"vega\" + 0.005*\"order\" + 0.005*\"time\"\n",
      "Topic: 1 \n",
      "Words: 0.007*\"food\" + 0.006*\"great\" + 0.006*\"place\" + 0.006*\"good\" + 0.005*\"servic\" + 0.005*\"pizza\" + 0.005*\"order\" + 0.005*\"friend\" + 0.005*\"come\" + 0.005*\"time\"\n",
      "Topic: 2 \n",
      "Words: 0.008*\"taco\" + 0.007*\"great\" + 0.006*\"good\" + 0.006*\"food\" + 0.006*\"place\" + 0.006*\"chicken\" + 0.006*\"wait\" + 0.005*\"love\" + 0.005*\"order\" + 0.005*\"delici\"\n",
      "Topic: 3 \n",
      "Words: 0.007*\"order\" + 0.006*\"great\" + 0.006*\"good\" + 0.006*\"food\" + 0.006*\"thai\" + 0.005*\"come\" + 0.005*\"like\" + 0.005*\"servic\" + 0.005*\"place\" + 0.005*\"time\"\n",
      "Topic: 4 \n",
      "Words: 0.007*\"great\" + 0.007*\"food\" + 0.006*\"best\" + 0.006*\"place\" + 0.006*\"come\" + 0.006*\"servic\" + 0.006*\"good\" + 0.006*\"love\" + 0.005*\"restaur\" + 0.005*\"price\"\n",
      "Topic: 5 \n",
      "Words: 0.005*\"good\" + 0.005*\"order\" + 0.005*\"place\" + 0.005*\"locat\" + 0.005*\"come\" + 0.005*\"great\" + 0.005*\"food\" + 0.005*\"time\" + 0.004*\"servic\" + 0.004*\"like\"\n",
      "Topic: 6 \n",
      "Words: 0.008*\"taco\" + 0.007*\"pizza\" + 0.006*\"food\" + 0.006*\"place\" + 0.006*\"good\" + 0.006*\"great\" + 0.005*\"like\" + 0.005*\"order\" + 0.005*\"time\" + 0.005*\"come\"\n",
      "Topic: 7 \n",
      "Words: 0.006*\"order\" + 0.005*\"good\" + 0.005*\"place\" + 0.005*\"great\" + 0.005*\"servic\" + 0.005*\"food\" + 0.005*\"come\" + 0.005*\"time\" + 0.005*\"like\" + 0.005*\"restaur\"\n",
      "Topic: 8 \n",
      "Words: 0.007*\"great\" + 0.007*\"place\" + 0.007*\"food\" + 0.006*\"taco\" + 0.006*\"good\" + 0.006*\"staff\" + 0.006*\"servic\" + 0.006*\"friend\" + 0.006*\"vega\" + 0.005*\"time\"\n",
      "Topic: 9 \n",
      "Words: 0.007*\"great\" + 0.006*\"nacho\" + 0.006*\"servic\" + 0.006*\"love\" + 0.006*\"good\" + 0.006*\"food\" + 0.005*\"drink\" + 0.005*\"fresh\" + 0.005*\"place\" + 0.005*\"order\"\n"
     ]
    }
   ],
   "source": [
    "for idx, topic in lda_model_tfidf.print_topics(-1):\n",
    "    print('Topic: {} \\nWords: {}'.format(idx, topic))"
   ]
  },
  {
   "cell_type": "code",
   "execution_count": 368,
   "metadata": {},
   "outputs": [],
   "source": [
    "x_train.loc[:,'topics'] = x_train.\\\n",
    "apply(lambda row: max(lda_model_tfidf[dictionary.doc2bow(preprocess(row['text']))],\\\n",
    "                      key = lambda item:item[1])[0], axis = 1)"
   ]
  },
  {
   "cell_type": "code",
   "execution_count": 369,
   "metadata": {},
   "outputs": [],
   "source": [
    "x_test.loc[:,'topics'] = x_test.\\\n",
    "apply(lambda row: max(lda_model_tfidf[dictionary.doc2bow(preprocess(row['text']))],\\\n",
    "                      key = lambda item:item[1])[0], axis = 1)"
   ]
  },
  {
   "cell_type": "code",
   "execution_count": 370,
   "metadata": {},
   "outputs": [],
   "source": [
    "def get_max_rows(df, gp, max_feat):\n",
    "    B_maxes = df.groupby(gp)[max_feat].transform(max)\n",
    "    return df[df[max_feat] == B_maxes] \n",
    "\n",
    "latest = get_max_rows(x_train, ['business_id', 'inspection date'], 'inspection time')\n",
    "final = get_max_rows(latest, ['business_id', 'inspection date'], 'review_id')"
   ]
  },
  {
   "cell_type": "code",
   "execution_count": 382,
   "metadata": {},
   "outputs": [
    {
     "name": "stdout",
     "output_type": "stream",
     "text": [
      "(4896, 15)\n",
      "(1511, 15)\n",
      "(7943, 41)\n",
      "(1986, 15)\n"
     ]
    }
   ],
   "source": [
    "print(latest.shape)\n",
    "print(final.shape)\n",
    "print(new_merged.shape)\n",
    "print(x_test.shape)"
   ]
  },
  {
   "cell_type": "code",
   "execution_count": 372,
   "metadata": {},
   "outputs": [
    {
     "data": {
      "text/plain": [
       "Index(['category name', 'inspection date', 'inspection time',\n",
       "       'inspection type', 'inspection grade', 'violations', 'business_id',\n",
       "       'categories', 'cool', 'funny', 'review_id', 'stars', 'text', 'useful',\n",
       "       'topics'],\n",
       "      dtype='object')"
      ]
     },
     "execution_count": 372,
     "metadata": {},
     "output_type": "execute_result"
    }
   ],
   "source": [
    "final.columns"
   ]
  },
  {
   "cell_type": "code",
   "execution_count": 373,
   "metadata": {},
   "outputs": [
    {
     "name": "stderr",
     "output_type": "stream",
     "text": [
      "/anaconda3/lib/python3.6/site-packages/ipykernel_launcher.py:1: SettingWithCopyWarning: \n",
      "A value is trying to be set on a copy of a slice from a DataFrame.\n",
      "Try using .loc[row_indexer,col_indexer] = value instead\n",
      "\n",
      "See the caveats in the documentation: http://pandas.pydata.org/pandas-docs/stable/indexing.html#indexing-view-versus-copy\n",
      "  \"\"\"Entry point for launching an IPython kernel.\n",
      "/anaconda3/lib/python3.6/site-packages/ipykernel_launcher.py:3: SettingWithCopyWarning: \n",
      "A value is trying to be set on a copy of a slice from a DataFrame.\n",
      "Try using .loc[row_indexer,col_indexer] = value instead\n",
      "\n",
      "See the caveats in the documentation: http://pandas.pydata.org/pandas-docs/stable/indexing.html#indexing-view-versus-copy\n",
      "  This is separate from the ipykernel package so we can avoid doing imports until\n",
      "/anaconda3/lib/python3.6/site-packages/ipykernel_launcher.py:4: SettingWithCopyWarning: \n",
      "A value is trying to be set on a copy of a slice from a DataFrame.\n",
      "Try using .loc[row_indexer,col_indexer] = value instead\n",
      "\n",
      "See the caveats in the documentation: http://pandas.pydata.org/pandas-docs/stable/indexing.html#indexing-view-versus-copy\n",
      "  after removing the cwd from sys.path.\n"
     ]
    }
   ],
   "source": [
    "final['inspection type'] = pd.factorize(final['inspection type'])[0]\n",
    "# final['neighborhood'] = pd.factorize(final['neighborhood'])[0]\n",
    "final['category name'] = pd.factorize(final['category name'])[0]\n",
    "final['inspection grade'] = pd.factorize(final['inspection grade'])[0]\n"
   ]
  },
  {
   "cell_type": "code",
   "execution_count": 374,
   "metadata": {},
   "outputs": [],
   "source": [
    "# for i in first_model.columns:\n",
    "#     print(i)\n",
    "#     print(type(first_model[i][0]))\n",
    "    "
   ]
  },
  {
   "cell_type": "code",
   "execution_count": 375,
   "metadata": {},
   "outputs": [
    {
     "data": {
      "text/plain": [
       "Index(['category name', 'inspection date', 'inspection time',\n",
       "       'inspection type', 'inspection grade', 'violations', 'business_id',\n",
       "       'categories', 'cool', 'funny', 'review_id', 'stars', 'text', 'useful',\n",
       "       'topics'],\n",
       "      dtype='object')"
      ]
     },
     "execution_count": 375,
     "metadata": {},
     "output_type": "execute_result"
    }
   ],
   "source": [
    "final.columns"
   ]
  },
  {
   "cell_type": "code",
   "execution_count": 376,
   "metadata": {},
   "outputs": [],
   "source": [
    "from sklearn.tree import DecisionTreeClassifier\n",
    "from sklearn.utils import resample\n",
    "from sklearn.model_selection import train_test_split\n",
    "# first_model = first_model[first_model['inspection grade'].isin([0,1,2])]\n",
    "\n",
    "model_drop = ['inspection date', 'review_id', 'inspection time',\\\n",
    "              'inspection grade', 'business_id', 'text', 'categories','violations']\n",
    "major_1 = final[final['inspection grade'] == 0 ]\n",
    "minority_1= final[final['inspection grade'] ==  1]\n",
    "minority_2 = final[final['inspection grade'] ==2]\n",
    "\n",
    "min1_up = resample(minority_1, replace=True, n_samples=1324, random_state=123)\n",
    "min2_up = resample(minority_2, replace=True, n_samples=1324, random_state=124)\n",
    "first_model = pd.concat([major_1, min1_up, min2_up])\n",
    "\n",
    "\n",
    "# first_model = get_max_rows(first_model,['inspection date'],'stars_y')\n",
    "# x_train, x_test, y_train, y_test = train_test_split(first_model.drop(model_drop, axis = 1), first_model['inspection grade'], test_size=0.25, random_state=42)\n",
    "\n",
    "clf = DecisionTreeClassifier(criterion = 'entropy')\n",
    "clf = clf.fit(first_model.drop(model_drop,axis =1), first_model['inspection grade'])"
   ]
  },
  {
   "cell_type": "markdown",
   "metadata": {},
   "source": [
    "# LOOK AT CORRELATION BTWN REVIEW_COUNTS + INSPECTION GRADE"
   ]
  },
  {
   "cell_type": "code",
   "execution_count": 377,
   "metadata": {},
   "outputs": [
    {
     "name": "stderr",
     "output_type": "stream",
     "text": [
      "/anaconda3/lib/python3.6/site-packages/ipykernel_launcher.py:3: SettingWithCopyWarning: \n",
      "A value is trying to be set on a copy of a slice from a DataFrame.\n",
      "Try using .loc[row_indexer,col_indexer] = value instead\n",
      "\n",
      "See the caveats in the documentation: http://pandas.pydata.org/pandas-docs/stable/indexing.html#indexing-view-versus-copy\n",
      "  This is separate from the ipykernel package so we can avoid doing imports until\n",
      "/anaconda3/lib/python3.6/site-packages/ipykernel_launcher.py:7: SettingWithCopyWarning: \n",
      "A value is trying to be set on a copy of a slice from a DataFrame.\n",
      "Try using .loc[row_indexer,col_indexer] = value instead\n",
      "\n",
      "See the caveats in the documentation: http://pandas.pydata.org/pandas-docs/stable/indexing.html#indexing-view-versus-copy\n",
      "  import sys\n",
      "/anaconda3/lib/python3.6/site-packages/ipykernel_launcher.py:8: SettingWithCopyWarning: \n",
      "A value is trying to be set on a copy of a slice from a DataFrame.\n",
      "Try using .loc[row_indexer,col_indexer] = value instead\n",
      "\n",
      "See the caveats in the documentation: http://pandas.pydata.org/pandas-docs/stable/indexing.html#indexing-view-versus-copy\n",
      "  \n"
     ]
    }
   ],
   "source": [
    "latest2 = get_max_rows(x_test, ['business_id', 'inspection date'], 'inspection time')\n",
    "final2 = get_max_rows(latest2, ['business_id', 'inspection date'], 'review_id')\n",
    "final2['inspection type'] = pd.factorize(final2['inspection type'])[0]\n",
    "\n",
    "# first_model['permit status'] = pd.factorize(first_model['permit status'])[0]\n",
    "# final2['neighborhood'] = pd.factorize(final2['neighborhood'])[0]\n",
    "final2['category name'] = pd.factorize(final2['category name'])[0]\n",
    "final2['inspection grade'] = pd.factorize(final2['inspection grade'])[0]"
   ]
  },
  {
   "cell_type": "code",
   "execution_count": 378,
   "metadata": {},
   "outputs": [
    {
     "name": "stdout",
     "output_type": "stream",
     "text": [
      "0.658695652173913\n",
      "0.658695652173913\n",
      "None\n"
     ]
    },
    {
     "data": {
      "image/png": "[encoded data removed]",
      "text/plain": [
       "<Figure size 432x288 with 1 Axes>"
      ]
     },
     "metadata": {},
     "output_type": "display_data"
    }
   ],
   "source": [
    "import numpy as np\n",
    "from collections import Counter\n",
    "from sklearn.metrics import accuracy_score\n",
    "import matplotlib.pyplot as plt\n",
    "acc = clf.predict(final2.drop(model_drop, axis = 1)) ==  np.array(final2['inspection grade'])\n",
    "print(Counter(acc)[True] / (Counter(acc)[True] + Counter(acc)[False]))\n",
    "feat_dict = dict(zip(x_train.drop(model_drop,axis = 1).columns,clf.feature_importances_))\n",
    "features = pd.DataFrame(pd.Series(feat_dict),columns=['feature_importance'])\n",
    "sortd= features.sort_values(by=['feature_importance'])\n",
    "sortd\n",
    "\n",
    "plt.bar(range(len(sortd)), sortd['feature_importance'], align='center')\n",
    "plt.xticks(range(len(sortd)), sortd.index,rotation = 'vertical')\n",
    "\n",
    "sortd\n",
    "print(print(accuracy_score(clf.predict(final2.drop(model_drop, axis = 1)),final2['inspection grade'])))"
   ]
  },
  {
   "cell_type": "code",
   "execution_count": 379,
   "metadata": {},
   "outputs": [],
   "source": [
    "# from sklearn import linear_model\n",
    "# from sklearn.linear_model import LogisticRegression\n",
    "# logreg = linear_model.LogisticRegression()\n",
    "# logreg.fit(x_train, y_train)\n",
    "# preds = logreg.predict(x_test)"
   ]
  },
  {
   "cell_type": "code",
   "execution_count": 380,
   "metadata": {},
   "outputs": [],
   "source": [
    "# acc = logreg.predict(x_test) ==  np.array(y_test)\n",
    "# print(Counter(acc)[True] / (Counter(acc)[True] + Counter(acc)[False]))"
   ]
  },
  {
   "cell_type": "code",
   "execution_count": 381,
   "metadata": {},
   "outputs": [],
   "source": [
    "# truth_count = 0\n",
    "# false_count = 0\n",
    "# for i in range(len(preds)):\n",
    "#     if preds[i] == y_test.iloc[i]:\n",
    "#         truth_count+=1\n",
    "#     else:\n",
    "#         false_count+=1\n",
    "    \n",
    "\n",
    "# print(truth_count)\n",
    "# print(false_count)"
   ]
  }
 ],
 "metadata": {
  "kernelspec": {
   "display_name": "Python 3",
   "language": "python",
   "name": "python3"
  },
  "language_info": {
   "codemirror_mode": {
    "name": "ipython",
    "version": 3
   },
   "file_extension": ".py",
   "mimetype": "text/x-python",
   "name": "python",
   "nbconvert_exporter": "python",
   "pygments_lexer": "ipython3",
   "version": "3.7.0"
  }
 },
 "nbformat": 4,
 "nbformat_minor": 2
}
