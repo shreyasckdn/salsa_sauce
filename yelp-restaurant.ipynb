{
 "cells": [
  {
   "cell_type": "code",
   "execution_count": 37,
   "metadata": {},
   "outputs": [],
   "source": [
    "import pandas as pd\n",
    "import json\n",
    "import datetime\n",
    "from pandas.io.json import json_normalize"
   ]
  },
  {
   "cell_type": "code",
   "execution_count": 39,
   "metadata": {},
   "outputs": [],
   "source": [
    "data = []\n",
    "with open(\"/Users/Antonio/Downloads/yelp_dataset/yelp_academic_dataset_business.json\", \"r\", encoding = \"UTF-8\") as f:\n",
    "    for line in f:\n",
    "        data.append(json.loads(line))\n",
    "\n",
    "df = json_normalize(data)"
   ]
  },
  {
   "cell_type": "code",
   "execution_count": null,
   "metadata": {},
   "outputs": [],
   "source": [
    "cols = df.columns\n",
    "df.columns"
   ]
  },
  {
   "cell_type": "code",
   "execution_count": null,
   "metadata": {},
   "outputs": [],
   "source": [
    "df.drop(['attributes.AcceptsInsurance', 'attributes.AgesAllowed','attributes.Alcohol', 'attributes.Ambience', 'attributes.BYOB', \n",
    "         'attributes.BYOBCorkage', 'attributes.BestNights', 'attributes.BikeParking','attributes.BusinessAcceptsBitcoin',\n",
    "        'attributes.BusinessAcceptsCreditCards', 'attributes.BusinessParking','attributes.ByAppointmentOnly', \n",
    "         'attributes.Caters','attributes.CoatCheck', 'attributes.Corkage','attributes.DietaryRestrictions', \n",
    "         'attributes.DogsAllowed','attributes.DriveThru', 'attributes.GoodForDancing','attributes.GoodForKids', \n",
    "         'attributes.GoodForMeal','attributes.HairSpecializesIn', 'attributes.HappyHour','attributes.HasTV',\n",
    "         'attributes.Music', 'attributes.NoiseLevel','attributes.Open24Hours', 'attributes.OutdoorSeating', \n",
    "         'attributes.RestaurantsAttire', 'attributes.RestaurantsCounterService','attributes.RestaurantsDelivery', \n",
    "         'attributes.RestaurantsGoodForGroups', 'attributes.RestaurantsPriceRange2', 'attributes.RestaurantsReservations',\n",
    "         'attributes.RestaurantsTableService', 'attributes.RestaurantsTakeOut', 'attributes.Smoking',\n",
    "         'attributes.WheelchairAccessible','attributes.WiFi','hours.Friday',\n",
    "         'hours.Monday', 'hours.Saturday', 'hours.Sunday', 'hours.Thursday','hours.Tuesday', 'hours.Wednesday', \n",
    "         'is_open'], inplace = True, axis = 1)"
   ]
  },
  {
   "cell_type": "code",
   "execution_count": 42,
   "metadata": {},
   "outputs": [
    {
     "data": {
      "text/plain": [
       "AZ     56495\n",
       "NV     35688\n",
       "ON     32393\n",
       "NC     14359\n",
       "OH     13664\n",
       "PA     10966\n",
       "QC      8756\n",
       "AB      7670\n",
       "WI      5042\n",
       "IL      1937\n",
       "SC       770\n",
       "NYK      163\n",
       "NI       134\n",
       "IN       101\n",
       "OR        72\n",
       "BY        60\n",
       "ST        45\n",
       "CO        43\n",
       "C         34\n",
       "HE        32\n",
       "NLK       23\n",
       "XGM       23\n",
       "NY        19\n",
       "RP        19\n",
       "01        11\n",
       "CA         8\n",
       "VS         7\n",
       "NW         4\n",
       "O          3\n",
       "6          3\n",
       "       ...  \n",
       "AL         2\n",
       "CC         1\n",
       "SP         1\n",
       "MT         1\n",
       "XMS        1\n",
       "WAR        1\n",
       "FL         1\n",
       "BC         1\n",
       "TAM        1\n",
       "45         1\n",
       "KY         1\n",
       "PO         1\n",
       "RCC        1\n",
       "LU         1\n",
       "HH         1\n",
       "MA         1\n",
       "GA         1\n",
       "NE         1\n",
       "DE         1\n",
       "AG         1\n",
       "10         1\n",
       "CRF        1\n",
       "CS         1\n",
       "MN         1\n",
       "HU         1\n",
       "V          1\n",
       "VA         1\n",
       "WHT        1\n",
       "4          1\n",
       "11         1\n",
       "Name: state, Length: 69, dtype: int64"
      ]
     },
     "execution_count": 42,
     "metadata": {},
     "output_type": "execute_result"
    }
   ],
   "source": [
    "df['state'].value_counts()"
   ]
  },
  {
   "cell_type": "code",
   "execution_count": 4,
   "metadata": {},
   "outputs": [],
   "source": [
    "lv_zip = [89044, 89054, 89101, 89102, 89103, 89104, 89106, 89107,\n",
    "          89108, 89109, 89110, 89113, 89115, 89117, 89118, 89119, 89120, \n",
    "          89121, 89122, 89123, 89124, 89128, 89129, 89130, 89131, 89134, \n",
    "          89135, 89138, 89139, 89141, 89142, 89143, 89144, 89145, 89146, 89147, \n",
    "          89148, 89149, 89156, 89158, 89161, 89165, 89166, 89169, 89178, 89179, 89183, 89199]\n",
    "lv_zip = [str(i) for i in lv_zip]\n",
    "lv = df[df.postal_code.isin(lv_zip)]\n",
    "\n"
   ]
  },
  {
   "cell_type": "code",
   "execution_count": 5,
   "metadata": {},
   "outputs": [],
   "source": [
    "lv_rest = pd.read_csv('~/Downloads/Restaurant_Inspections.csv')\n",
    "lv_rest.columns = [str.lower(i) for i in lv_rest.columns]"
   ]
  },
  {
   "cell_type": "code",
   "execution_count": 6,
   "metadata": {},
   "outputs": [],
   "source": [
    "lv_rest.replace(regex = r'(?<=\\d{5})-\\d+', value = '', inplace = True)"
   ]
  },
  {
   "cell_type": "code",
   "execution_count": 7,
   "metadata": {},
   "outputs": [
    {
     "data": {
      "text/plain": [
       "array(['89109', '89122', '89104', '89123', '89149', '89129', '89101',\n",
       "       '89183', '89169', '89052', '89119', '89108', '89102', '89014',\n",
       "       '89121', '89130', '89110', '89106', '89147', '89012', '89103',\n",
       "       '89005', '89148', '89128', '89030', '89107', '89032', '89117',\n",
       "       '89019', '89139', '89158', '89145', '89031', '89156', '89143',\n",
       "       '89081', '89142', '89084', '89115', '89135', '89178', '89131',\n",
       "       '89029', '89074', '89044', '89146', '89015', '89166', '89027',\n",
       "       '89134', '89141', '89113', '89118', '89048', '89111', '89004',\n",
       "       '89046', '89007', '89011', '89002', '89114', '89120', '89154',\n",
       "       '91301', '89021', '89144', '89138', '89127', '89124', '89193',\n",
       "       '89152', '89054', '98147', '89105', '89179', '89041', '89040',\n",
       "       '85027', '89137', '89112', '89018', '89100', '89006', '89190',\n",
       "       '89186', '89034', '89189', '89036', '89010', '98032', '89025',\n",
       "       '89086', '89161', '89165', '89039', '89140', '88108', '89001',\n",
       "       '80919', '89164', '89009', '80109', '89167', '89037', '89159',\n",
       "       '89163', '89811', '92120', '89013', '89017', '89028', '89085',\n",
       "       '89181', '55121', '99216', '89132', '49027', '84790', '89016',\n",
       "       '89160', '84120', '89155', '92308', '89060', '89125', '96603',\n",
       "       '89153', '89116', '89157'], dtype=object)"
      ]
     },
     "execution_count": 7,
     "metadata": {},
     "output_type": "execute_result"
    }
   ],
   "source": [
    "lv_rest = lv_rest.dropna(subset = ['zip', 'address','restaurant name'])\n",
    "\n",
    "lv_rest.zip.unique()"
   ]
  },
  {
   "cell_type": "code",
   "execution_count": 140,
   "metadata": {},
   "outputs": [
    {
     "data": {
      "text/plain": [
       "serial number                             DAFRGRSNW\n",
       "permit number                             PR0102800\n",
       "restaurant name        TROP MINI MART ICE PACKAGING\n",
       "location name                        TROP MINI MART\n",
       "category name                             Snack Bar\n",
       "address                        5785 W TROPICANA 1/2\n",
       "city                                      Las Vegas\n",
       "state                                        Nevada\n",
       "zip                                           89104\n",
       "current demerits                                  3\n",
       "current grade                                     A\n",
       "date current                 04/04/2018 12:00:00 AM\n",
       "inspection date              03/19/2018 12:00:00 AM\n",
       "inspection time              03/19/2018 10:00:00 AM\n",
       "employee id                               EE7001291\n",
       "inspection type                  Routine Inspection\n",
       "inspection demerits                               3\n",
       "inspection grade                                  B\n",
       "permit status                                   NaN\n",
       "inspection result                     'B' Downgrade\n",
       "violations                                     2955\n",
       "record updated               03/19/2018 11:25:21 AM\n",
       "location 1                (36.0994893, 115.2200544)\n",
       "Name: 437, dtype: object"
      ]
     },
     "execution_count": 140,
     "metadata": {},
     "output_type": "execute_result"
    }
   ],
   "source": [
    "lv_rest.iloc[436,:]"
   ]
  },
  {
   "cell_type": "code",
   "execution_count": 108,
   "metadata": {},
   "outputs": [
    {
     "data": {
      "text/plain": [
       "serial number                          DAIZGXETD\n",
       "permit number                          PR0107683\n",
       "restaurant name                      OUTBACK BAR\n",
       "location name            OUTBACK STEAKHOUSE 3213\n",
       "category name                       Bar / Tavern\n",
       "address                       521 N STEPHANIE St\n",
       "city                                   Henderson\n",
       "state                                     Nevada\n",
       "zip                                        89014\n",
       "current demerits                               0\n",
       "current grade                                  A\n",
       "date current              03/01/2017 12:00:00 AM\n",
       "inspection date           03/01/2017 12:00:00 AM\n",
       "inspection time           03/01/2017 12:50:00 PM\n",
       "employee id                            EE7001226\n",
       "inspection type               Routine Inspection\n",
       "inspection demerits                            0\n",
       "inspection grade                               A\n",
       "permit status                                  A\n",
       "inspection result                      'A' Grade\n",
       "violations                                   NaN\n",
       "record updated            03/01/2017 12:47:34 PM\n",
       "location 1             (36.0576865, 115.0468364)\n",
       "Name: 1198, dtype: object"
      ]
     },
     "execution_count": 108,
     "metadata": {},
     "output_type": "execute_result"
    }
   ],
   "source": [
    "lv_rest.iloc[1196,:]"
   ]
  },
  {
   "cell_type": "code",
   "execution_count": 8,
   "metadata": {},
   "outputs": [],
   "source": [
    "lv_rest.loc[:,'address'] = lv_rest.apply(lambda row: str.lower(str(row['address'])).replace(' ', ''), axis = 1)\n",
    "lv_rest.loc[:,'restaurant name']= lv_rest.apply(lambda row: str.lower(row['restaurant name']).replace(' ', ''), axis = 1)"
   ]
  },
  {
   "cell_type": "code",
   "execution_count": 142,
   "metadata": {},
   "outputs": [
    {
     "data": {
      "text/plain": [
       "Index(['serial number', 'permit number', 'restaurant name', 'location name',\n",
       "       'category name', 'address', 'city', 'state', 'zip', 'current demerits',\n",
       "       'current grade', 'date current', 'inspection date', 'inspection time',\n",
       "       'employee id', 'inspection type', 'inspection demerits',\n",
       "       'inspection grade', 'permit status', 'inspection result', 'violations',\n",
       "       'record updated', 'location 1'],\n",
       "      dtype='object')"
      ]
     },
     "execution_count": 142,
     "metadata": {},
     "output_type": "execute_result"
    }
   ],
   "source": [
    "lv_rest.columns"
   ]
  },
  {
   "cell_type": "code",
   "execution_count": 9,
   "metadata": {},
   "outputs": [
    {
     "name": "stderr",
     "output_type": "stream",
     "text": [
      "/anaconda3/lib/python3.6/site-packages/pandas/core/indexing.py:543: SettingWithCopyWarning: \n",
      "A value is trying to be set on a copy of a slice from a DataFrame.\n",
      "Try using .loc[row_indexer,col_indexer] = value instead\n",
      "\n",
      "See the caveats in the documentation: http://pandas.pydata.org/pandas-docs/stable/indexing.html#indexing-view-versus-copy\n",
      "  self.obj[item] = s\n"
     ]
    }
   ],
   "source": [
    "lv.loc[:,'address'] = lv.apply(lambda row: str.lower(str(row['address'])).replace(' ', ''), axis = 1)\n",
    "lv.loc[:,'name'] = lv.apply(lambda row: str.lower(row['name']).replace(' ', ''), axis = 1)"
   ]
  },
  {
   "cell_type": "code",
   "execution_count": 67,
   "metadata": {},
   "outputs": [
    {
     "data": {
      "text/plain": [
       "Index(['serial number', 'permit number', 'restaurant name', 'location name',\n",
       "       'category name', 'address', 'city', 'state', 'zip', 'current demerits',\n",
       "       'current grade', 'date current', 'inspection date', 'inspection time',\n",
       "       'employee id', 'inspection type', 'inspection demerits',\n",
       "       'inspection grade', 'permit status', 'inspection result', 'violations',\n",
       "       'record updated', 'location 1'],\n",
       "      dtype='object')"
      ]
     },
     "execution_count": 67,
     "metadata": {},
     "output_type": "execute_result"
    }
   ],
   "source": [
    "lv_rest.columns"
   ]
  },
  {
   "cell_type": "code",
   "execution_count": 12,
   "metadata": {},
   "outputs": [
    {
     "data": {
      "text/plain": [
       "Index(['serial number', 'permit number', 'restaurant name', 'location name',\n",
       "       'category name', 'address', 'city_x', 'state_x', 'zip',\n",
       "       'current demerits', 'current grade', 'date current', 'inspection date',\n",
       "       'inspection time', 'employee id', 'inspection type',\n",
       "       'inspection demerits', 'inspection grade', 'permit status',\n",
       "       'inspection result', 'violations', 'record updated', 'location 1',\n",
       "       'business_id', 'categories', 'city_y', 'latitude', 'longitude', 'name',\n",
       "       'neighborhood', 'postal_code', 'review_count', 'stars', 'state_y'],\n",
       "      dtype='object')"
      ]
     },
     "execution_count": 12,
     "metadata": {},
     "output_type": "execute_result"
    }
   ],
   "source": [
    "merged = lv_rest.merge(lv, left_on = ['address','restaurant name'] , right_on =['address','name'], how = 'left')\n",
    "merged.columns"
   ]
  },
  {
   "cell_type": "code",
   "execution_count": 14,
   "metadata": {},
   "outputs": [],
   "source": [
    "merged = merged[merged['name'].notnull()]"
   ]
  },
  {
   "cell_type": "code",
   "execution_count": 152,
   "metadata": {},
   "outputs": [],
   "source": [
    "merged.to_csv('sanity_check.csv', index = False)"
   ]
  },
  {
   "cell_type": "code",
   "execution_count": 31,
   "metadata": {},
   "outputs": [],
   "source": [
    "rev = []\n",
    "with open(\"/Users/Antonio/Downloads/yelp_dataset/yelp_academic_dataset_review.json\", \"r\", encoding = \"UTF-8\") as f:\n",
    "    for line in f:\n",
    "        rev.append(json.loads(line))\n",
    "\n",
    "yelp_reviews = json_normalize(rev)"
   ]
  },
  {
   "cell_type": "code",
   "execution_count": 22,
   "metadata": {},
   "outputs": [],
   "source": [
    "bus_id = merged.business_id.unique()\n",
    "yelp_reviews = yelp_reviews[yelp_reviews.business_id.isin(bus_id)]\n"
   ]
  },
  {
   "cell_type": "code",
   "execution_count": 24,
   "metadata": {},
   "outputs": [],
   "source": [
    "yelp_reviews.to_csv('vegas_yelp_reviews.csv', index = False)"
   ]
  },
  {
   "cell_type": "code",
   "execution_count": 68,
   "metadata": {},
   "outputs": [],
   "source": [
    "rest_grades = pd.read_csv('sanity_check.csv')\n",
    "rest_grades['inspection date'] = pd.to_datetime(rest_grades['inspection date'].apply(lambda x:str(x).split()[0]), \n",
    "                                                format='%m/%d/%Y')\n",
    "rest_grades['inspection date'] = rest_grades['inspection date'].apply(lambda x:datetime.datetime(x.year,x.month,1))"
   ]
  },
  {
   "cell_type": "code",
   "execution_count": 69,
   "metadata": {},
   "outputs": [],
   "source": [
    "yelp_rev = pd.read_csv('vegas_yelp_reviews.csv')"
   ]
  },
  {
   "cell_type": "code",
   "execution_count": 70,
   "metadata": {},
   "outputs": [],
   "source": [
    "yelp_rev['date'] = pd.to_datetime(yelp_rev['date'],format='%Y-%m-%d')\n",
    "yelp_rev['date'] = yelp_rev['date'].apply(lambda x:datetime.datetime(x.year,x.month,1))\n",
    "yelp_rev['date']\n",
    "new_merged = rest_grades.merge(yelp_rev, left_on = ['business_id','inspection date'] , right_on =['business_id','date'], how = 'left')\n"
   ]
  },
  {
   "cell_type": "code",
   "execution_count": 123,
   "metadata": {},
   "outputs": [
    {
     "data": {
      "text/plain": [
       "A    7411\n",
       "B    1569\n",
       "C     849\n",
       "X     174\n",
       "P      53\n",
       "O       8\n",
       "Name: inspection grade, dtype: int64"
      ]
     },
     "execution_count": 123,
     "metadata": {},
     "output_type": "execute_result"
    }
   ],
   "source": [
    "new_merged['inspection grade'].value_counts()"
   ]
  },
  {
   "cell_type": "code",
   "execution_count": 60,
   "metadata": {},
   "outputs": [
    {
     "data": {
      "text/plain": [
       "Index(['serial number', 'permit number', 'restaurant name', 'location name',\n",
       "       'category name', 'address', 'city_x', 'state_x', 'zip',\n",
       "       'current demerits', 'current grade', 'date current', 'inspection date',\n",
       "       'inspection time', 'employee id', 'inspection type',\n",
       "       'inspection demerits', 'inspection grade', 'permit status',\n",
       "       'inspection result', 'violations', 'record updated', 'location 1',\n",
       "       'business_id', 'categories', 'city_y', 'latitude', 'longitude', 'name',\n",
       "       'neighborhood', 'postal_code', 'review_count', 'stars_x', 'state_y',\n",
       "       'cool', 'date', 'funny', 'review_id', 'stars_y', 'text', 'useful',\n",
       "       'user_id'],\n",
       "      dtype='object')"
      ]
     },
     "execution_count": 60,
     "metadata": {},
     "output_type": "execute_result"
    }
   ],
   "source": [
    "new_merged.columns"
   ]
  },
  {
   "cell_type": "code",
   "execution_count": 64,
   "metadata": {},
   "outputs": [],
   "source": [
    "def get_max_rows(df, gp, max_feat):\n",
    "    B_maxes = df.groupby(gp)[max_feat].transform(max)\n",
    "    return df[df[max_feat] == B_maxes] \n",
    "\n",
    "oldest = get_max_rows(new_merged, ['business_id', 'inspection date'], 'inspection time')\n"
   ]
  },
  {
   "cell_type": "code",
   "execution_count": 67,
   "metadata": {},
   "outputs": [
    {
     "name": "stdout",
     "output_type": "stream",
     "text": [
      "(8289, 42)\n",
      "(10154, 42)\n"
     ]
    }
   ],
   "source": [
    "print(oldest.shape)\n",
    "print(new_merged.shape)"
   ]
  },
  {
   "cell_type": "code",
   "execution_count": 66,
   "metadata": {},
   "outputs": [
    {
     "data": {
      "text/plain": [
       "array([ 6,  3,  9,  0, 33,  8,  5, 16, 18, 20, 19, 14, 25, 10, 24, 39, 46,\n",
       "       32, 29, 27, 17, 30, 22, 34, 15, 28, 53, 36, 38, 12,  4,  7,  1,  2,\n",
       "       13, 42, 35, 31, 26, 37, 40, 51, 63, 69, 45, 50, 21, 23, 11])"
      ]
     },
     "execution_count": 66,
     "metadata": {},
     "output_type": "execute_result"
    }
   ],
   "source": [
    "oldest['inspection demerits'].unique()"
   ]
  },
  {
   "cell_type": "code",
   "execution_count": 154,
   "metadata": {},
   "outputs": [],
   "source": [
    "first_model = oldest.drop(['serial number', 'permit number', 'restaurant name', 'location name',\n",
    "       'address', 'city_x', 'state_x',\n",
    "       'current demerits', 'current grade', 'date current', \n",
    "       'inspection time', 'employee id', \n",
    "       'inspection result', 'violations', 'record updated', 'location 1',\n",
    "       'business_id', 'city_y', 'latitude', 'longitude', 'name',\n",
    "       'neighborhood', 'review_id','postal_code',  'state_y', 'text','date', 'inspection demerits', 'categories',\n",
    "       'user_id'], axis = 1)\n"
   ]
  },
  {
   "cell_type": "code",
   "execution_count": 155,
   "metadata": {},
   "outputs": [],
   "source": [
    "first_model['inspection date'] = first_model.apply(lambda row: row['inspection date'].timestamp(), axis = 1 )\n",
    "first_model['category name'] = pd.factorize(first_model['category name'])[0]\n",
    "first_model['inspection type'] = pd.factorize(first_model['inspection type'])[0]\n",
    "first_model['permit status'] = pd.factorize(first_model['permit status'])[0]\n",
    "first_model['inspection grade'] = pd.factorize(first_model['inspection grade'])[0]"
   ]
  },
  {
   "cell_type": "code",
   "execution_count": 116,
   "metadata": {},
   "outputs": [
    {
     "name": "stdout",
     "output_type": "stream",
     "text": [
      "category name\n",
      "<class 'numpy.int64'>\n",
      "zip\n",
      "<class 'numpy.int64'>\n",
      "inspection date\n",
      "<class 'numpy.float64'>\n",
      "inspection type\n",
      "<class 'numpy.int64'>\n",
      "inspection grade\n",
      "<class 'numpy.int64'>\n",
      "permit status\n",
      "<class 'numpy.int64'>\n",
      "review_count\n",
      "<class 'numpy.float64'>\n",
      "stars_x\n",
      "<class 'numpy.float64'>\n",
      "cool\n",
      "<class 'numpy.float64'>\n",
      "funny\n",
      "<class 'numpy.float64'>\n",
      "stars_y\n",
      "<class 'numpy.float64'>\n",
      "useful\n",
      "<class 'numpy.float64'>\n"
     ]
    }
   ],
   "source": [
    "for i in first_model.columns:\n",
    "    print(i)\n",
    "    print(type(first_model[i][0]))"
   ]
  },
  {
   "cell_type": "code",
   "execution_count": 171,
   "metadata": {},
   "outputs": [
    {
     "name": "stdout",
     "output_type": "stream",
     "text": [
      "(2737, 12)\n",
      "DecisionTreeClassifier(class_weight=None, criterion='gini', max_depth=None,\n",
      "            max_features=None, max_leaf_nodes=None,\n",
      "            min_impurity_decrease=0.0, min_impurity_split=None,\n",
      "            min_samples_leaf=1, min_samples_split=2,\n",
      "            min_weight_fraction_leaf=0.0, presort=False, random_state=None,\n",
      "            splitter='best')\n"
     ]
    }
   ],
   "source": [
    "from sklearn.linear_model import LogisticRegression\n",
    "from sklearn.tree import DecisionTreeClassifier\n",
    "from sklearn.model_selection import train_test_split\n",
    "first_model = first_model.dropna()\n",
    "# first_model = first_model[first_model['inspection grade'].isin([0,1,2])]\n",
    "first_model = get_max_rows(first_model,['inspection date'],'stars_y')\n",
    "print(first_model.shape)\n",
    "x_train, x_test, y_train, y_test = train_test_split(first_model.drop(['inspection grade'], axis = 1), first_model['inspection grade'], test_size=0.25, random_state=42)\n",
    "\n",
    "logreg = DecisionTreeClassifier()\n",
    "logreg.fit(x_train, y_train)\n",
    "print(logreg)\n",
    "preds = logreg.predict(x_test)"
   ]
  },
  {
   "cell_type": "code",
   "execution_count": 172,
   "metadata": {},
   "outputs": [
    {
     "data": {
      "text/plain": [
       "0    621\n",
       "2     35\n",
       "1     29\n",
       "dtype: int64"
      ]
     },
     "execution_count": 172,
     "metadata": {},
     "output_type": "execute_result"
    }
   ],
   "source": [
    "pd.Series(preds).value_counts()"
   ]
  },
  {
   "cell_type": "code",
   "execution_count": 173,
   "metadata": {},
   "outputs": [
    {
     "data": {
      "text/plain": [
       "0    625\n",
       "2     36\n",
       "1     24\n",
       "Name: inspection grade, dtype: int64"
      ]
     },
     "execution_count": 173,
     "metadata": {},
     "output_type": "execute_result"
    }
   ],
   "source": [
    "y_test.value_counts()"
   ]
  },
  {
   "cell_type": "code",
   "execution_count": 183,
   "metadata": {},
   "outputs": [
    {
     "name": "stdout",
     "output_type": "stream",
     "text": [
      "642\n",
      "43\n"
     ]
    }
   ],
   "source": [
    "truth_count = 0\n",
    "false_count = 0\n",
    "for i in range(len(preds)):\n",
    "    if preds[i] == y_test.iloc[i]:\n",
    "        truth_count+=1\n",
    "    else:\n",
    "        false_count+=1\n",
    "    \n",
    "\n",
    "print(truth_count)\n",
    "print(false_count)"
   ]
  }
 ],
 "metadata": {
  "kernelspec": {
   "display_name": "Python 3",
   "language": "python",
   "name": "python3"
  },
  "language_info": {
   "codemirror_mode": {
    "name": "ipython",
    "version": 3
   },
   "file_extension": ".py",
   "mimetype": "text/x-python",
   "name": "python",
   "nbconvert_exporter": "python",
   "pygments_lexer": "ipython3",
   "version": "3.6.5"
  }
 },
 "nbformat": 4,
 "nbformat_minor": 2
}
