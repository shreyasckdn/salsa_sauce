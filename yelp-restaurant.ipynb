{
 "cells": [
  {
   "cell_type": "code",
   "execution_count": 1,
   "metadata": {},
   "outputs": [],
   "source": [
    "import pandas as pd\n",
    "import json\n",
    "from pandas.io.json import json_normalize"
   ]
  },
  {
   "cell_type": "code",
   "execution_count": 98,
   "metadata": {},
   "outputs": [],
   "source": [
    "data = []\n",
    "with open(\"/Users/Antonio/Downloads/yelp_dataset/yelp_academic_dataset_business.json\", \"r\", encoding = \"UTF-8\") as f:\n",
    "    for line in f:\n",
    "        data.append(json.loads(line))\n",
    "\n",
    "df = json_normalize(data)"
   ]
  },
  {
   "cell_type": "code",
   "execution_count": 96,
   "metadata": {},
   "outputs": [
    {
     "data": {
      "text/plain": [
       "Index(['address', 'attributes.AcceptsInsurance', 'attributes.AgesAllowed',\n",
       "       'attributes.Alcohol', 'attributes.Ambience', 'attributes.BYOB',\n",
       "       'attributes.BYOBCorkage', 'attributes.BestNights',\n",
       "       'attributes.BikeParking', 'attributes.BusinessAcceptsBitcoin',\n",
       "       'attributes.BusinessAcceptsCreditCards', 'attributes.BusinessParking',\n",
       "       'attributes.ByAppointmentOnly', 'attributes.Caters',\n",
       "       'attributes.CoatCheck', 'attributes.Corkage',\n",
       "       'attributes.DietaryRestrictions', 'attributes.DogsAllowed',\n",
       "       'attributes.DriveThru', 'attributes.GoodForDancing',\n",
       "       'attributes.GoodForKids', 'attributes.GoodForMeal',\n",
       "       'attributes.HairSpecializesIn', 'attributes.HappyHour',\n",
       "       'attributes.HasTV', 'attributes.Music', 'attributes.NoiseLevel',\n",
       "       'attributes.Open24Hours', 'attributes.OutdoorSeating',\n",
       "       'attributes.RestaurantsAttire', 'attributes.RestaurantsCounterService',\n",
       "       'attributes.RestaurantsDelivery', 'attributes.RestaurantsGoodForGroups',\n",
       "       'attributes.RestaurantsPriceRange2',\n",
       "       'attributes.RestaurantsReservations',\n",
       "       'attributes.RestaurantsTableService', 'attributes.RestaurantsTakeOut',\n",
       "       'attributes.Smoking', 'attributes.WheelchairAccessible',\n",
       "       'attributes.WiFi', 'business_id', 'categories', 'city', 'hours.Friday',\n",
       "       'hours.Monday', 'hours.Saturday', 'hours.Sunday', 'hours.Thursday',\n",
       "       'hours.Tuesday', 'hours.Wednesday', 'is_open', 'latitude', 'longitude',\n",
       "       'name', 'neighborhood', 'postal_code', 'review_count', 'stars',\n",
       "       'state'],\n",
       "      dtype='object')"
      ]
     },
     "execution_count": 96,
     "metadata": {},
     "output_type": "execute_result"
    }
   ],
   "source": [
    "cols = df.columns\n",
    "df.columns"
   ]
  },
  {
   "cell_type": "code",
   "execution_count": 100,
   "metadata": {},
   "outputs": [],
   "source": [
    "df.drop(['attributes.AcceptsInsurance', 'attributes.AgesAllowed','attributes.Alcohol', 'attributes.Ambience', 'attributes.BYOB', \n",
    "         'attributes.BYOBCorkage', 'attributes.BestNights', 'attributes.BikeParking','attributes.BusinessAcceptsBitcoin',\n",
    "        'attributes.BusinessAcceptsCreditCards', 'attributes.BusinessParking','attributes.ByAppointmentOnly', \n",
    "         'attributes.Caters','attributes.CoatCheck', 'attributes.Corkage','attributes.DietaryRestrictions', \n",
    "         'attributes.DogsAllowed','attributes.DriveThru', 'attributes.GoodForDancing','attributes.GoodForKids', \n",
    "         'attributes.GoodForMeal','attributes.HairSpecializesIn', 'attributes.HappyHour','attributes.HasTV',\n",
    "         'attributes.Music', 'attributes.NoiseLevel','attributes.Open24Hours', 'attributes.OutdoorSeating', \n",
    "         'attributes.RestaurantsAttire', 'attributes.RestaurantsCounterService','attributes.RestaurantsDelivery', \n",
    "         'attributes.RestaurantsGoodForGroups', 'attributes.RestaurantsPriceRange2', 'attributes.RestaurantsReservations',\n",
    "         'attributes.RestaurantsTableService', 'attributes.RestaurantsTakeOut', 'attributes.Smoking',\n",
    "         'attributes.WheelchairAccessible','attributes.WiFi','hours.Friday',\n",
    "         'hours.Monday', 'hours.Saturday', 'hours.Sunday', 'hours.Thursday','hours.Tuesday', 'hours.Wednesday', \n",
    "         'is_open'], inplace = True, axis = 1)"
   ]
  },
  {
   "cell_type": "code",
   "execution_count": 101,
   "metadata": {},
   "outputs": [],
   "source": [
    "lv_zip = [89044, 89054, 89101, 89102, 89103, 89104, 89106, 89107,\n",
    "          89108, 89109, 89110, 89113, 89115, 89117, 89118, 89119, 89120, \n",
    "          89121, 89122, 89123, 89124, 89128, 89129, 89130, 89131, 89134, \n",
    "          89135, 89138, 89139, 89141, 89142, 89143, 89144, 89145, 89146, 89147, \n",
    "          89148, 89149, 89156, 89158, 89161, 89165, 89166, 89169, 89178, 89179, 89183, 89199]\n",
    "lv_zip = [str(i) for i in lv_zip]\n",
    "lv = df[df.postal_code.isin(lv_zip)]\n",
    "\n"
   ]
  },
  {
   "cell_type": "code",
   "execution_count": 134,
   "metadata": {},
   "outputs": [],
   "source": [
    "lv_rest = pd.read_csv('~/Downloads/Restaurant_Inspections.csv')\n",
    "lv_rest.columns = [str.lower(i) for i in lv_rest.columns]"
   ]
  },
  {
   "cell_type": "code",
   "execution_count": 135,
   "metadata": {},
   "outputs": [],
   "source": [
    "lv_rest.replace(regex = r'(?<=\\d{5})-\\d+', value = '', inplace = True)"
   ]
  },
  {
   "cell_type": "code",
   "execution_count": 137,
   "metadata": {},
   "outputs": [
    {
     "data": {
      "text/plain": [
       "array(['89109', '89122', '89104', '89123', '89149', '89129', '89101',\n",
       "       '89183', '89169', '89052', '89119', '89108', '89102', '89014',\n",
       "       '89121', '89130', '89110', '89106', '89147', '89012', '89103',\n",
       "       '89005', '89148', '89128', '89030', '89107', '89032', '89117',\n",
       "       '89019', '89139', '89158', '89145', '89031', '89156', '89143',\n",
       "       '89081', '89142', '89084', '89115', '89135', '89178', '89131',\n",
       "       '89029', '89074', '89044', '89146', '89015', '89166', '89027',\n",
       "       '89134', '89141', '89113', '89118', '89048', '89111', '89004',\n",
       "       '89046', '89007', '89011', '89002', '89114', '89120', '89154',\n",
       "       '91301', '89021', '89144', '89138', '89127', '89124', '89193',\n",
       "       '89152', '89054', '98147', '89105', '89179', '89041', '89040',\n",
       "       '85027', '89137', '89112', '89018', '89100', '89006', '89190',\n",
       "       '89186', '89034', '89189', '89036', '89010', '98032', '89025',\n",
       "       '89086', '89161', '89165', '89039', '89140', '88108', '89001',\n",
       "       '80919', '89164', '89009', '80109', '89167', '89037', '89159',\n",
       "       '89163', '89811', '92120', '89013', '89017', '89028', '89085',\n",
       "       '89181', '55121', '99216', '89132', '49027', '84790', '89016',\n",
       "       '89160', '84120', '89155', '92308', '89060', '89125', '96603',\n",
       "       '89153', '89116', '89157'], dtype=object)"
      ]
     },
     "execution_count": 137,
     "metadata": {},
     "output_type": "execute_result"
    }
   ],
   "source": [
    "lv_rest = lv_rest.dropna(subset = ['zip', 'address','restaurant name'])\n",
    "\n",
    "lv_rest.zip.unique()"
   ]
  },
  {
   "cell_type": "code",
   "execution_count": 140,
   "metadata": {},
   "outputs": [
    {
     "data": {
      "text/plain": [
       "serial number                             DAFRGRSNW\n",
       "permit number                             PR0102800\n",
       "restaurant name        TROP MINI MART ICE PACKAGING\n",
       "location name                        TROP MINI MART\n",
       "category name                             Snack Bar\n",
       "address                        5785 W TROPICANA 1/2\n",
       "city                                      Las Vegas\n",
       "state                                        Nevada\n",
       "zip                                           89104\n",
       "current demerits                                  3\n",
       "current grade                                     A\n",
       "date current                 04/04/2018 12:00:00 AM\n",
       "inspection date              03/19/2018 12:00:00 AM\n",
       "inspection time              03/19/2018 10:00:00 AM\n",
       "employee id                               EE7001291\n",
       "inspection type                  Routine Inspection\n",
       "inspection demerits                               3\n",
       "inspection grade                                  B\n",
       "permit status                                   NaN\n",
       "inspection result                     'B' Downgrade\n",
       "violations                                     2955\n",
       "record updated               03/19/2018 11:25:21 AM\n",
       "location 1                (36.0994893, 115.2200544)\n",
       "Name: 437, dtype: object"
      ]
     },
     "execution_count": 140,
     "metadata": {},
     "output_type": "execute_result"
    }
   ],
   "source": [
    "lv_rest.iloc[436,:]"
   ]
  },
  {
   "cell_type": "code",
   "execution_count": 108,
   "metadata": {},
   "outputs": [
    {
     "data": {
      "text/plain": [
       "serial number                          DAIZGXETD\n",
       "permit number                          PR0107683\n",
       "restaurant name                      OUTBACK BAR\n",
       "location name            OUTBACK STEAKHOUSE 3213\n",
       "category name                       Bar / Tavern\n",
       "address                       521 N STEPHANIE St\n",
       "city                                   Henderson\n",
       "state                                     Nevada\n",
       "zip                                        89014\n",
       "current demerits                               0\n",
       "current grade                                  A\n",
       "date current              03/01/2017 12:00:00 AM\n",
       "inspection date           03/01/2017 12:00:00 AM\n",
       "inspection time           03/01/2017 12:50:00 PM\n",
       "employee id                            EE7001226\n",
       "inspection type               Routine Inspection\n",
       "inspection demerits                            0\n",
       "inspection grade                               A\n",
       "permit status                                  A\n",
       "inspection result                      'A' Grade\n",
       "violations                                   NaN\n",
       "record updated            03/01/2017 12:47:34 PM\n",
       "location 1             (36.0576865, 115.0468364)\n",
       "Name: 1198, dtype: object"
      ]
     },
     "execution_count": 108,
     "metadata": {},
     "output_type": "execute_result"
    }
   ],
   "source": [
    "lv_rest.iloc[1196,:]"
   ]
  },
  {
   "cell_type": "code",
   "execution_count": 141,
   "metadata": {},
   "outputs": [
    {
     "name": "stderr",
     "output_type": "stream",
     "text": [
      "/anaconda3/lib/python3.6/site-packages/pandas/core/indexing.py:543: SettingWithCopyWarning: \n",
      "A value is trying to be set on a copy of a slice from a DataFrame.\n",
      "Try using .loc[row_indexer,col_indexer] = value instead\n",
      "\n",
      "See the caveats in the documentation: http://pandas.pydata.org/pandas-docs/stable/indexing.html#indexing-view-versus-copy\n",
      "  self.obj[item] = s\n"
     ]
    }
   ],
   "source": [
    "lv_rest.loc[:,'address'] = lv_rest.apply(lambda row: str.lower(str(row['address'])).replace(' ', ''), axis = 1)\n",
    "lv_rest.loc[:,'restaurant name']= lv_rest.apply(lambda row: str.lower(row['restaurant name']).replace(' ', ''), axis = 1)"
   ]
  },
  {
   "cell_type": "code",
   "execution_count": 142,
   "metadata": {},
   "outputs": [
    {
     "data": {
      "text/plain": [
       "Index(['serial number', 'permit number', 'restaurant name', 'location name',\n",
       "       'category name', 'address', 'city', 'state', 'zip', 'current demerits',\n",
       "       'current grade', 'date current', 'inspection date', 'inspection time',\n",
       "       'employee id', 'inspection type', 'inspection demerits',\n",
       "       'inspection grade', 'permit status', 'inspection result', 'violations',\n",
       "       'record updated', 'location 1'],\n",
       "      dtype='object')"
      ]
     },
     "execution_count": 142,
     "metadata": {},
     "output_type": "execute_result"
    }
   ],
   "source": [
    "lv_rest.columns"
   ]
  },
  {
   "cell_type": "code",
   "execution_count": 144,
   "metadata": {},
   "outputs": [
    {
     "name": "stderr",
     "output_type": "stream",
     "text": [
      "/anaconda3/lib/python3.6/site-packages/pandas/core/indexing.py:543: SettingWithCopyWarning: \n",
      "A value is trying to be set on a copy of a slice from a DataFrame.\n",
      "Try using .loc[row_indexer,col_indexer] = value instead\n",
      "\n",
      "See the caveats in the documentation: http://pandas.pydata.org/pandas-docs/stable/indexing.html#indexing-view-versus-copy\n",
      "  self.obj[item] = s\n"
     ]
    }
   ],
   "source": [
    "lv.loc[:,'address'] = lv.apply(lambda row: str.lower(str(row['address'])).replace(' ', ''), axis = 1)\n",
    "lv.loc[:,'name'] = lv.apply(lambda row: str.lower(row['name']).replace(' ', ''), axis = 1)"
   ]
  },
  {
   "cell_type": "code",
   "execution_count": 67,
   "metadata": {},
   "outputs": [
    {
     "data": {
      "text/plain": [
       "Index(['serial number', 'permit number', 'restaurant name', 'location name',\n",
       "       'category name', 'address', 'city', 'state', 'zip', 'current demerits',\n",
       "       'current grade', 'date current', 'inspection date', 'inspection time',\n",
       "       'employee id', 'inspection type', 'inspection demerits',\n",
       "       'inspection grade', 'permit status', 'inspection result', 'violations',\n",
       "       'record updated', 'location 1'],\n",
       "      dtype='object')"
      ]
     },
     "execution_count": 67,
     "metadata": {},
     "output_type": "execute_result"
    }
   ],
   "source": [
    "lv_rest.columns"
   ]
  },
  {
   "cell_type": "code",
   "execution_count": 147,
   "metadata": {},
   "outputs": [
    {
     "data": {
      "text/plain": [
       "Index(['serial number', 'permit number', 'restaurant name', 'location name',\n",
       "       'category name', 'address', 'city_x', 'state_x', 'zip',\n",
       "       'current demerits', 'current grade', 'date current', 'inspection date',\n",
       "       'inspection time', 'employee id', 'inspection type',\n",
       "       'inspection demerits', 'inspection grade', 'permit status',\n",
       "       'inspection result', 'violations', 'record updated', 'location 1',\n",
       "       'business_id', 'categories', 'city_y', 'latitude', 'longitude', 'name',\n",
       "       'neighborhood', 'postal_code', 'review_count', 'stars', 'state_y'],\n",
       "      dtype='object')"
      ]
     },
     "execution_count": 147,
     "metadata": {},
     "output_type": "execute_result"
    }
   ],
   "source": [
    "merged = lv_rest.merge(lv, left_on = ['address','restaurant name'] , right_on =['address','name'], how = 'left')\n",
    "merged.columns"
   ]
  },
  {
   "cell_type": "code",
   "execution_count": 155,
   "metadata": {},
   "outputs": [
    {
     "data": {
      "text/plain": [
       "347"
      ]
     },
     "execution_count": 155,
     "metadata": {},
     "output_type": "execute_result"
    }
   ],
   "source": [
    "new = merged[merged['name'].notnull()]\n",
    "new.shape\n",
    "len(new.name.unique())"
   ]
  },
  {
   "cell_type": "code",
   "execution_count": 152,
   "metadata": {},
   "outputs": [],
   "source": [
    "new.to_csv('sanity_check.csv', index = False)"
   ]
  }
 ],
 "metadata": {
  "kernelspec": {
   "display_name": "Python 3",
   "language": "python",
   "name": "python3"
  },
  "language_info": {
   "codemirror_mode": {
    "name": "ipython",
    "version": 3
   },
   "file_extension": ".py",
   "mimetype": "text/x-python",
   "name": "python",
   "nbconvert_exporter": "python",
   "pygments_lexer": "ipython3",
   "version": "3.7.0"
  }
 },
 "nbformat": 4,
 "nbformat_minor": 2
}
